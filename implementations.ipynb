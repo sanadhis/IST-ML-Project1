{
 "cells": [
  {
   "cell_type": "code",
   "execution_count": 1,
   "metadata": {},
   "outputs": [],
   "source": [
    "%matplotlib inline\n",
    "import numpy as np\n",
    "import matplotlib.pyplot as plt\n",
    "\n",
    "from scripts.proj1_helpers import *\n",
    "from scripts.preprocess import standardize_with_power_terms\n",
    "\n",
    "from implementations import least_squares_GD\n",
    "from implementations import least_squares_SGD\n",
    "from implementations import least_squares\n",
    "from implementations import ridge_regression\n",
    "from implementations import logistic_regression\n",
    "from implementations import reg_logistic_regression\n",
    "\n",
    "%load_ext autoreload\n",
    "%autoreload 2"
   ]
  },
  {
   "cell_type": "code",
   "execution_count": 2,
   "metadata": {},
   "outputs": [],
   "source": [
    "# load data\n",
    "raw_y, raw_x, ind = load_csv_data('higgs-data/train.csv')"
   ]
  },
  {
   "cell_type": "markdown",
   "metadata": {},
   "source": [
    "## * Data Processing\n",
    "1. Based on PRI_JET_NUM (feature 22), which ranged in value of inclusive [0,4], we devide the training data into 4 groups. From these 4 groups, we devide again each of them into 2 subsets based on outliers (-999) value in DER_MASS_MMC (feature 1). So these approach give us 8 subsets to train and to obtain the 8 corresponding models. \n",
    "<br><br>\n",
    "<b>We obtain exactly eight models (w00, w01, w10, w11, w20, w21, w30, w31)</b>.\n",
    "<br><br>We add suffixes to the model with {PRI_JET_NUM}_{DER_MASS_MMC_OUTLIERS_TAG}, 1 to indicate real values and 2 to indicate outliers.\n",
    "<br>E.g. for PRI_JET_NUM=0 and DER_MASS_MMC!=-999 we will get w0_1.<br>\n",
    "<br>\n",
    "2. We standardize the data using power terms."
   ]
  },
  {
   "cell_type": "markdown",
   "metadata": {},
   "source": [
    "### Creating Subsets"
   ]
  },
  {
   "cell_type": "code",
   "execution_count": 3,
   "metadata": {},
   "outputs": [],
   "source": [
    "def create_subsets(x, y):\n",
    "    sets_x = []\n",
    "    sets_y = []\n",
    "    for pri_jet_num_val in np.unique(x[:,22]):\n",
    "        \n",
    "        indices = (x[:,22] == pri_jet_num_val) & (x[:,0] != -999)\n",
    "        x_tmp   = x[indices,:]\n",
    "        y_tmp   = y[indices]\n",
    "\n",
    "        sets_x.append(x_tmp)\n",
    "        sets_y.append(y_tmp)\n",
    "\n",
    "        indices = (x[:,22] == pri_jet_num_val) & (x[:,0] == -999)\n",
    "        x_tmp   = x[indices,:]\n",
    "        y_tmp   = y[indices]\n",
    "\n",
    "        sets_x.append(x_tmp)\n",
    "        sets_y.append(y_tmp)\n",
    "        \n",
    "    return sets_x, sets_y\n",
    "\n",
    "sets_x, sets_y = create_subsets(raw_x, raw_y)\n",
    "\n",
    "# Subset 00 where PRI_JET_NUM = 0 and DER_MASS_MMC != -999\n",
    "x00 = sets_x[0]\n",
    "y00 = sets_y[0]\n",
    "\n",
    "# Subset 01 where PRI_JET_NUM = 0 and DER_MASS_MMC == -999\n",
    "x01 = sets_x[1]\n",
    "y01 = sets_y[1]\n",
    "\n",
    "# Subset 10 where PRI_JET_NUM = 1 and DER_MASS_MMC != -999\n",
    "x10 = sets_x[2]\n",
    "y10 = sets_y[2]\n",
    "\n",
    "# Subset 11 where PRI_JET_NUM = 1 and DER_MASS_MMC == -999\n",
    "x11 = sets_x[3]\n",
    "y11 = sets_y[3]\n",
    "\n",
    "# Subset 20 where PRI_JET_NUM = 2 and DER_MASS_MMC != -999\n",
    "x20 = sets_x[4]\n",
    "y20 = sets_y[4]\n",
    "\n",
    "# Subset 21 where PRI_JET_NUM = 2 and DER_MASS_MMC == -999\n",
    "x21 = sets_x[5]\n",
    "y21 = sets_y[5]\n",
    "\n",
    "# Subset 30 where PRI_JET_NUM = 3 and DER_MASS_MMC != -999\n",
    "x30 = sets_x[6]\n",
    "y30 = sets_y[6]\n",
    "\n",
    "# Subset 31 where PRI_JET_NUM = 3 and DER_MASS_MMC == -999\n",
    "x31 = sets_x[7]\n",
    "y31 = sets_y[7]"
   ]
  },
  {
   "cell_type": "markdown",
   "metadata": {},
   "source": [
    "### Features Reduction"
   ]
  },
  {
   "cell_type": "code",
   "execution_count": 4,
   "metadata": {},
   "outputs": [],
   "source": [
    "# if PRI_JET_NUM = 0 and DER_MASS_MMC != -999\n",
    "# We drop features 4, 5, 6, 11, 12, 15, 18, 20, 22, 23, 24, 25, 26, 27, 28, 29 \n",
    "x00 = np.delete(x00, [4, 5, 6, 11, 12, 15, 18, 20, 22, 23, 24, 25, 26, 27, 28, 29], 1)\n",
    "\n",
    "# if PRI_JET_NUM = 0 and DER_MASS_MMC == -999\n",
    "# We drop features 0, 4, 5, 6, 11, 12, 15, 18, 20, 22, 23, 24, 25, 26, 27, 28, 29 \n",
    "x01 = np.delete(x01, [0, 4, 5, 6, 11, 12, 15, 18, 20, 22, 23, 24, 25, 26, 27, 28, 29], 1)\n",
    "\n",
    "# if PRI_JET_NUM = 1 and DER_MASS_MMC != -999\n",
    "# We drop features 4, 5, 6, 11, 12, 15, 18, 20, 22, 26, 27, 28 \n",
    "x10 = np.delete(x10, [4, 5, 6, 11, 12, 15, 18, 20, 22, 26, 27, 28], 1)\n",
    "\n",
    "# if PRI_JET_NUM = 1 and DER_MASS_MMC == -999\n",
    "# We drop features 0, 4, 5, 6, 11, 12, 15, 18, 20, 22, 26, 27, 28 \n",
    "x11 = np.delete(x11, [0, 4, 5, 6, 11, 12, 15, 18, 20, 22, 26, 27, 28], 1)\n",
    "\n",
    "# if PRI_JET_NUM == 2 and DER_MASS_MMC != -999\n",
    "# We drop features 11, 15, 18, 20, 22, 28\n",
    "x20 = np.delete(x20, [11, 15, 18, 20, 22, 28], 1)\n",
    "\n",
    "# if PRI_JET_NUM == 2 and DER_MASS_MMC == -999\n",
    "# We drop features 0, 11, 15, 18, 20, 22, 28\n",
    "x21 = np.delete(x21, [0, 11, 15, 18, 20, 22, 28], 1)\n",
    "\n",
    "# if PRI_JET_NUM == 3 and DER_MASS_MMC != -999\n",
    "# We drop features 11, 15, 18, 20, 22, 28\n",
    "x30 = np.delete(x30, [11, 15, 18, 20, 22, 28], 1)\n",
    "\n",
    "# if PRI_JET_NUM == 3 and DER_MASS_MMC == -999\n",
    "# We drop features 0, 11, 15, 18, 20, 22, 28\n",
    "x31 = np.delete(x31, [0, 11, 15, 18, 20, 22, 28], 1)"
   ]
  },
  {
   "cell_type": "markdown",
   "metadata": {},
   "source": [
    "### Data Standarization Using Power Terms"
   ]
  },
  {
   "cell_type": "code",
   "execution_count": 5,
   "metadata": {},
   "outputs": [],
   "source": [
    "standardize_x00 = standardize_with_power_terms(x00, 2, True, with_sqrt=True)\n",
    "\n",
    "standardize_x01 = standardize_with_power_terms(x01, 2, True, with_sqrt=True)\n",
    "\n",
    "standardize_x10 = standardize_with_power_terms(x10, 2, True, with_sqrt=True)\n",
    "\n",
    "standardize_x11 = standardize_with_power_terms(x11, 2, True, with_sqrt=True)\n",
    "\n",
    "standardize_x20 = standardize_with_power_terms(x20, 2, True, with_sqrt=True)\n",
    "\n",
    "standardize_x21 = standardize_with_power_terms(x21, 2, True, with_sqrt=True)\n",
    "\n",
    "standardize_x30 = standardize_with_power_terms(x30, 2, True, with_sqrt=True)\n",
    "\n",
    "standardize_x31 = standardize_with_power_terms(x31, 2, True, with_sqrt=True)\n"
   ]
  },
  {
   "cell_type": "markdown",
   "metadata": {},
   "source": [
    "# Main Implementations"
   ]
  },
  {
   "cell_type": "code",
   "execution_count": 6,
   "metadata": {},
   "outputs": [],
   "source": [
    "# Final Datasets\n",
    "standardize_x = [standardize_x00, standardize_x01, standardize_x10, standardize_x11, standardize_x20, standardize_x21, standardize_x30, standardize_x31]\n",
    "sets_y        = [y00, y01, y10, y11, y20, y21, y30, y31]\n",
    "\n",
    "# Define the parameters of the algorithm.\n",
    "max_iters = 5000\n",
    "gamma     = 0.000002\n",
    "lambda_   = 0.000001"
   ]
  },
  {
   "cell_type": "markdown",
   "metadata": {},
   "source": [
    "## 1. Least Squares Using Gradient Descent"
   ]
  },
  {
   "cell_type": "code",
   "execution_count": 7,
   "metadata": {},
   "outputs": [
    {
     "name": "stdout",
     "output_type": "stream",
     "text": [
      "0.724881420247\n",
      "0.802051831719\n",
      "0.675002143408\n",
      "0.767654059773\n",
      "0.699243047209\n",
      "0.777100271003\n",
      "0.678445400493\n",
      "0.81990521327\n"
     ]
    }
   ],
   "source": [
    "ws_1 = []\n",
    "for x, y in zip(standardize_x, sets_y):\n",
    "    initial_w = np.zeros(x.shape[1])\n",
    "    w, loss   = least_squares_GD(y, x, initial_w, max_iters, gamma)\n",
    "    print(np.mean(predict_labels(w, x) == y))\n",
    "    ws_1.append(w)\n",
    "    "
   ]
  },
  {
   "cell_type": "markdown",
   "metadata": {},
   "source": [
    "## 2. Least Squares Using Stochastic Gradient Descent"
   ]
  },
  {
   "cell_type": "code",
   "execution_count": 8,
   "metadata": {},
   "outputs": [
    {
     "name": "stdout",
     "output_type": "stream",
     "text": [
      "0.723770158558\n",
      "0.797266776404\n",
      "0.673430310651\n",
      "0.767389579476\n",
      "0.705146857275\n",
      "0.774051490515\n",
      "0.675400009668\n",
      "0.811103588355\n"
     ]
    }
   ],
   "source": [
    "ws_2 = []\n",
    "for x, y in zip(standardize_x, sets_y):\n",
    "    initial_w = np.zeros(x.shape[1])\n",
    "    w, loss   = least_squares_SGD(y, x, initial_w, max_iters, gamma)\n",
    "    print(np.mean(predict_labels(w, x) == y))\n",
    "    ws_2.append(w)\n",
    "    "
   ]
  },
  {
   "cell_type": "markdown",
   "metadata": {},
   "source": [
    "## 3. Least Squares Using Normal Equations"
   ]
  },
  {
   "cell_type": "code",
   "execution_count": 7,
   "metadata": {},
   "outputs": [
    {
     "name": "stdout",
     "output_type": "stream",
     "text": [
      "0.799756064507\n",
      "0.948512804808\n",
      "0.759581035123\n",
      "0.918407828617\n",
      "0.791342484239\n",
      "0.907859078591\n",
      "0.785227437521\n",
      "0.938388625592\n"
     ]
    }
   ],
   "source": [
    "ws_3 = []\n",
    "for x, y in zip(standardize_x, sets_y):\n",
    "    w, loss = least_squares(y, x)\n",
    "    print(np.mean(predict_labels(w, x) == y))\n",
    "    ws_3.append(w)\n",
    "    "
   ]
  },
  {
   "cell_type": "markdown",
   "metadata": {},
   "source": [
    "## 4. Ridge Regression"
   ]
  },
  {
   "cell_type": "code",
   "execution_count": 8,
   "metadata": {},
   "outputs": [
    {
     "name": "stdout",
     "output_type": "stream",
     "text": [
      "0.799796720423\n",
      "0.948551085251\n",
      "0.759266668572\n",
      "0.918275588469\n",
      "0.791131633879\n",
      "0.907520325203\n",
      "0.785904191038\n",
      "0.939065673663\n"
     ]
    }
   ],
   "source": [
    "ws_4 = []\n",
    "for x, y in zip(standardize_x, sets_y):\n",
    "    w, loss = ridge_regression(y, x, lambda_)\n",
    "    print(np.mean(predict_labels(w, x) == y))\n",
    "    ws_4.append(w)\n",
    "    "
   ]
  },
  {
   "cell_type": "markdown",
   "metadata": {},
   "source": [
    "## 5. Logistic Regression using Gradient Descent"
   ]
  },
  {
   "cell_type": "code",
   "execution_count": 34,
   "metadata": {},
   "outputs": [
    {
     "name": "stdout",
     "output_type": "stream",
     "text": [
      "0.8060577314\n",
      "0.94839796348\n",
      "0.788331285188\n",
      "0.918011108172\n",
      "0.82054525903\n",
      "0.906165311653\n",
      "0.809252187364\n",
      "0.93432633717\n"
     ]
    }
   ],
   "source": [
    "ws_5 = []\n",
    "for x, y in zip(standardize_x, sets_y):\n",
    "    #map y to value of either zero or one\n",
    "    mapped_y = (y+1)/2\n",
    "    \n",
    "    initial_w = np.zeros(x.shape[1])\n",
    "    w, loss   = logistic_regression(mapped_y, x, initial_w, max_iters, gamma)\n",
    "    \n",
    "    print(np.mean(predict_labels(w, x) == y))\n",
    "    ws_5.append(w)\n",
    "    "
   ]
  },
  {
   "cell_type": "markdown",
   "metadata": {},
   "source": [
    "## 6. Regularized Logistic Regression using Gradient Descent"
   ]
  },
  {
   "cell_type": "code",
   "execution_count": 9,
   "metadata": {},
   "outputs": [
    {
     "name": "stdout",
     "output_type": "stream",
     "text": [
      "0.8060577314\n",
      "0.94839796348\n",
      "0.788345574576\n",
      "0.918011108172\n",
      "0.82054525903\n",
      "0.906165311653\n",
      "0.809300526901\n",
      "0.93432633717\n"
     ]
    }
   ],
   "source": [
    "ws_6 = []\n",
    "lambda_ = 0.01\n",
    "for x, y in zip(standardize_x, sets_y):\n",
    "    #map y to value of either zero or one\n",
    "    mapped_y = (y+1)/2\n",
    "    \n",
    "    initial_w = np.zeros(x.shape[1])\n",
    "    w, loss   = reg_logistic_regression(mapped_y, x, initial_w, max_iters, gamma, lambda_)\n",
    "    \n",
    "    print(np.mean(predict_labels(w, x) == y))\n",
    "    ws_6.append(w)\n",
    "    "
   ]
  },
  {
   "cell_type": "markdown",
   "metadata": {},
   "source": [
    "# Testing and Make Submission to Kaggle"
   ]
  },
  {
   "cell_type": "code",
   "execution_count": 35,
   "metadata": {},
   "outputs": [],
   "source": [
    "test_y, test_x, ind = load_csv_data('higgs-data/test.csv')\n",
    "\n",
    "def make_submission_file(x, y, w, filename=\"prediction.csv\"):\n",
    "    y_pred = np.ones(len(y))\n",
    "    w00, w01, w10, w11, w20, w21, w30, w31 = w[0], w[1], w[2], w[3], w[4], w[5], w[6], w[7]\n",
    "    \n",
    "    # for PRI_JET_NUM = 0 and DER_MASS_MMC != -999\n",
    "    mask         = (x[:, 22] == 0) & (x[:, 0] != -999)\n",
    "    x_tmp        = x[mask, :]\n",
    "    x_tmp        = np.delete(x_tmp, [4, 5, 6, 11, 12, 15, 18, 20, 22, 23, 24, 25, 26, 27, 28, 29], 1)\n",
    "    stand_x      = standardize_with_power_terms(x_tmp, 2, True, with_sqrt=True)\n",
    "    y_pred[mask] = predict_labels(w00, stand_x)\n",
    "    \n",
    "    # for PRI_JET_NUM = 0 and DER_MASS_MMC == -999\n",
    "    mask         = (x[:, 22] == 0) & (x[:, 0] == -999)\n",
    "    x_tmp        = x[mask, :]\n",
    "    x_tmp        = np.delete(x_tmp, [0, 4, 5, 6, 11, 12, 15, 18, 20, 22, 23, 24, 25, 26, 27, 28, 29], 1)\n",
    "    stand_x      = standardize_with_power_terms(x_tmp, 2, True, with_sqrt=True)\n",
    "    y_pred[mask] = predict_labels(w01, stand_x)\n",
    "\n",
    "    # for PRI_JET_NUM = 1 and DER_MASS_MMC != -999\n",
    "    mask         = (x[:, 22] == 1) & (x[:, 0] != -999)\n",
    "    x_tmp        = x[mask, :]\n",
    "    x_tmp        = np.delete(x_tmp, [4, 5, 6, 11, 12, 15, 18, 20, 22, 26, 27, 28], 1)\n",
    "    stand_x      = standardize_with_power_terms(x_tmp, 2, True, with_sqrt=True)\n",
    "    y_pred[mask] = predict_labels(w10, stand_x)\n",
    "    \n",
    "    # for PRI_JET_NUM = 1 and DER_MASS_MMC == -999\n",
    "    mask         = (x[:, 22] == 1) & (x[:, 0] == -999)\n",
    "    x_tmp        = x[mask, :]\n",
    "    x_tmp        = np.delete(x_tmp, [0, 4, 5, 6, 11, 12, 15, 18, 20, 22, 26, 27, 28], 1)\n",
    "    stand_x      = standardize_with_power_terms(x_tmp, 2, True, with_sqrt=True)\n",
    "    y_pred[mask] = predict_labels(w11, stand_x)\n",
    "\n",
    "    # for PRI_JET_NUM = 2 and DER_MASS_MMC != -999\n",
    "    mask         = (x[:, 22] == 2) & (x[:, 0] != -999)\n",
    "    x_tmp        = x[mask, :]\n",
    "    x_tmp        = np.delete(x_tmp, [11, 15, 18, 20, 22, 28], 1)\n",
    "    stand_x      = standardize_with_power_terms(x_tmp, 2, True, with_sqrt=True)\n",
    "    y_pred[mask] = predict_labels(w20, stand_x)\n",
    "    \n",
    "    # for PRI_JET_NUM = 2 and DER_MASS_MMC == -999\n",
    "    mask         = (x[:, 22] == 2) & (x[:, 0] == -999)\n",
    "    x_tmp        = x[mask, :]\n",
    "    x_tmp        = np.delete(x_tmp, [0, 11, 15, 18, 20, 22, 28], 1)\n",
    "    stand_x      = standardize_with_power_terms(x_tmp, 2, True, with_sqrt=True)\n",
    "    y_pred[mask] = predict_labels(w21, stand_x)\n",
    "\n",
    "    # for PRI_JET_NUM = 3 and DER_MASS_MMC != -999\n",
    "    mask         = (x[:, 22] == 3) & (x[:, 0] != -999)\n",
    "    x_tmp        = x[mask, :]\n",
    "    x_tmp        = np.delete(x_tmp, [11, 15, 18, 20, 22, 28], 1)\n",
    "    stand_x      = standardize_with_power_terms(x_tmp, 2, True, with_sqrt=True)\n",
    "    y_pred[mask] = predict_labels(w30, stand_x)\n",
    "    \n",
    "    # for PRI_JET_NUM = 3 and DER_MASS_MMC == -999\n",
    "    mask         = (x[:, 22] == 3) & (x[:, 0] == -999)\n",
    "    x_tmp        = x[mask, :]\n",
    "    x_tmp        = np.delete(x_tmp, [0, 11, 15, 18, 20, 22, 28], 1)\n",
    "    stand_x      = standardize_with_power_terms(x_tmp, 2, True, with_sqrt=True)\n",
    "    y_pred[mask] = predict_labels(w31, stand_x)\n",
    "    \n",
    "    create_csv_submission(ind, y_pred, filename)"
   ]
  },
  {
   "cell_type": "markdown",
   "metadata": {},
   "source": [
    "### 5. Testing Logistic Regression"
   ]
  },
  {
   "cell_type": "code",
   "execution_count": 36,
   "metadata": {},
   "outputs": [],
   "source": [
    "make_submission_file(test_x, test_y, ws_5, \"final-submission.csv\")"
   ]
  },
  {
   "cell_type": "code",
   "execution_count": null,
   "metadata": {},
   "outputs": [],
   "source": []
  }
 ],
 "metadata": {
  "kernelspec": {
   "display_name": "Python [default]",
   "language": "python",
   "name": "python3"
  },
  "language_info": {
   "codemirror_mode": {
    "name": "ipython",
    "version": 3
   },
   "file_extension": ".py",
   "mimetype": "text/x-python",
   "name": "python",
   "nbconvert_exporter": "python",
   "pygments_lexer": "ipython3",
   "version": "3.6.1"
  }
 },
 "nbformat": 4,
 "nbformat_minor": 2
}
