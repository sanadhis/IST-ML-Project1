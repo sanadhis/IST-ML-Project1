{
 "cells": [
  {
   "cell_type": "markdown",
   "metadata": {},
   "source": [
    "## import libraries"
   ]
  },
  {
   "cell_type": "code",
   "execution_count": 1,
   "metadata": {
    "collapsed": true
   },
   "outputs": [],
   "source": [
    "%matplotlib inline\n",
    "import numpy as np\n",
    "import matplotlib.pyplot as plt\n",
    "import random\n",
    "from datetime import datetime\n",
    "\n",
    "from scripts.ml_method import *\n",
    "from scripts.proj1_helpers import *\n",
    "from scripts.preprocess import *\n",
    "%load_ext autoreload\n",
    "%autoreload 2\n",
    "\n"
   ]
  },
  {
   "cell_type": "markdown",
   "metadata": {},
   "source": [
    "## Load data"
   ]
  },
  {
   "cell_type": "code",
   "execution_count": 47,
   "metadata": {
    "collapsed": true
   },
   "outputs": [],
   "source": [
    "y, x, ind = load_csv_data('higgs-data/train.csv')"
   ]
  },
  {
   "cell_type": "markdown",
   "metadata": {},
   "source": [
    "## Clean data and normalize data"
   ]
  },
  {
   "cell_type": "code",
   "execution_count": 48,
   "metadata": {},
   "outputs": [],
   "source": [
    "stand_x = standardize(x, with_ones= False)"
   ]
  },
  {
   "cell_type": "code",
   "execution_count": 26,
   "metadata": {},
   "outputs": [
    {
     "data": {
      "text/plain": [
       "6"
      ]
     },
     "execution_count": 26,
     "metadata": {},
     "output_type": "execute_result"
    }
   ],
   "source": [
    "ts = np.array([-1, 1,2,3])\n",
    "loss = sum([0 if i < 0 else i for i in ts])\n"
   ]
  },
  {
   "cell_type": "code",
   "execution_count": 49,
   "metadata": {
    "collapsed": true
   },
   "outputs": [],
   "source": [
    "def hinge_loss(y, tx, w):\n",
    "    tmp = 1 - y * (tx @ w)\n",
    "    loss = sum([0 if i < 0 else i for i in tmp])\n",
    "    return loss\n",
    "    \n",
    "def calculate_primal_objective(y, tx, w, lambda_):\n",
    "    \"\"\"compute the full cost (the primal objective), that is loss plus regularizer.\n",
    "    X: the full dataset matrix, shape = (num_examples, num_features)\n",
    "    y: the corresponding +1 or -1 labels, shape = (num_examples)\n",
    "    w: shape = (num_features)\n",
    "    \"\"\"\n",
    "    v = hinge_loss(y, tx, w)\n",
    "    return hinge_loss(y, tx, w) + lambda_ / 2 * np.inner(w,w)\n",
    "\n",
    "def accuracy(y1, y2):\n",
    "    return np.mean(y1 == y2)\n",
    "\n",
    "def prediction(tx, w):\n",
    "    return (tx @ w > 0) * 2 - 1\n",
    "\n",
    "def calculate_accuracy(y, tx, w):\n",
    "    \"\"\"compute the training accuracy on the training set (can be called for test set as well).\n",
    "    X: the full dataset matrix, shape = (num_examples, num_features)\n",
    "    y: the corresponding +1 or -1 labels, shape = (num_examples)\n",
    "    w: shape = (num_features)\n",
    "    \"\"\"\n",
    "    predicted_y = prediction(tx, w)\n",
    "    return accuracy(predicted_y, y)\n",
    "\n",
    "def calculate_stochastic_gradient(y, tx, w, lambda_, n):\n",
    "    \"\"\"compute the stochastic gradient of loss plus regularizer.\n",
    "    X: the dataset matrix, shape = (num_examples, num_features)\n",
    "    y: the corresponding +1 or -1 labels, shape = (num_examples)\n",
    "    w: shape = (num_features)\n",
    "    n: the index of the (one) datapoint we have sampled\n",
    "    \"\"\"\n",
    "    # Be careful about the constant N (size) term!\n",
    "    # The complete objective for SVM is a sum, not an average as in earlier SGD examples!\n",
    "    def is_support(y_n, x_n, w):\n",
    "        \"\"\"a datapoint is support if max{} is not 0. \"\"\"\n",
    "        return y_n * x_n @ w < 1\n",
    "    \n",
    "    x_n, y_n = tx[n], y[n]\n",
    "    grad = - y_n * x_n.T if is_support(y_n, x_n, w) else np.zeros_like(x_n.T)\n",
    "    grad = np.squeeze(grad) + lambda_ * w\n",
    "    return grad\n",
    "\n"
   ]
  },
  {
   "cell_type": "code",
   "execution_count": 50,
   "metadata": {
    "scrolled": true
   },
   "outputs": [
    {
     "name": "stdout",
     "output_type": "stream",
     "text": [
      "iteration=0, cost=881271.0642500354\n",
      "iteration=10000, cost=170336.6829499165\n",
      "iteration=20000, cost=169824.2085728295\n",
      "iteration=30000, cost=169558.95187942567\n",
      "iteration=40000, cost=169366.73915279438\n",
      "iteration=50000, cost=169193.22946113822\n",
      "iteration=60000, cost=169072.57449530446\n",
      "iteration=70000, cost=168981.20275902862\n",
      "iteration=80000, cost=169027.33776161866\n",
      "iteration=90000, cost=168935.58299396152\n",
      "training accuracy = 0.713704\n"
     ]
    }
   ],
   "source": [
    "def sgd_for_svm_demo(y, X):\n",
    "    \n",
    "    max_iter = 100000\n",
    "    gamma = 2\n",
    "    lambda_ = 0.1\n",
    "    \n",
    "    num_examples, num_features = X.shape\n",
    "    w = np.zeros(num_features)\n",
    "    np.random.seed(2)\n",
    "    \n",
    "    for it in range(max_iter):\n",
    "        # n = sample one data point uniformly at random data from x\n",
    "        n = random.randint(0,num_examples-1)\n",
    "        \n",
    "        grad = calculate_stochastic_gradient(y, X, w, lambda_, n)\n",
    "        w -= gamma/(it+1) * grad\n",
    "        \n",
    "        if it % 10000 == 0:\n",
    "            cost = calculate_primal_objective(y, X, w, lambda_)\n",
    "            print(\"iteration={i}, cost={c}\".format(i=it, c=cost))\n",
    "    \n",
    "    print(\"training accuracy = {l}\".format(l=calculate_accuracy(y, X, w)))\n",
    "    \n",
    "sgd_for_svm_demo(y, stand_x)"
   ]
  },
  {
   "cell_type": "code",
   "execution_count": 13,
   "metadata": {
    "collapsed": true
   },
   "outputs": [],
   "source": [
    "def calculate_coordinate_update(y, X, lambda_, alpha, w, n):\n",
    "    \"\"\"compute a coordinate update (closed form) for coordinate n.\n",
    "    X: the dataset matrix, shape = (num_examples, num_features)\n",
    "    y: the corresponding +1 or -1 labels, shape = (num_examples)\n",
    "    w: shape = (num_examples)\n",
    "    n: the coordinate to be updated\n",
    "    \"\"\"        \n",
    "    # calculate the update of coordinate at index=n.\n",
    "    x_n, y_n = X[n], y[n]\n",
    "    old_alpha_n = alpha[n]\n",
    "    \n",
    "    g = (y_n * x_n.dot(w) - 1)\n",
    "\n",
    "    if old_alpha_n == 0:\n",
    "        g = min(g, 0)\n",
    "    elif old_alpha_n == 1.0 / lambda_:\n",
    "        g = max(g, 0)\n",
    "    else:\n",
    "        g = g\n",
    "    if g != 0:\n",
    "        alpha[n] = min(\n",
    "            max(old_alpha_n - g / (x_n.T.dot(x_n)), 0.0),\n",
    "            1.0 / lambda_)\n",
    "    \n",
    "        # compute the corresponding update on the primal vector w\n",
    "        w += 1.0 * (alpha[n] - old_alpha_n) * y_n * x_n\n",
    "    return w\n",
    "\n",
    "def calculate_dual_objective(y, X, w, alpha, lambda_):\n",
    "    \"\"\"calculate the objective for the dual problem.\"\"\"\n",
    "    return np.sum(alpha * (1 - y * (X @ w))) + lambda_ / 2 * np.sum(w ** 2)\n",
    "\n",
    "def coordinate_descent_for_svm_demo(y, X, lambda_):\n",
    "    max_iter = 100000\n",
    "#     lambda_ = 0.01\n",
    "\n",
    "    num_examples, num_features = X.shape\n",
    "    w = np.zeros(num_features)\n",
    "    alpha = np.zeros(num_examples)\n",
    "    np.random.seed(2)\n",
    "    \n",
    "    for it in range(max_iter):\n",
    "        # n = sample one data point uniformly at random data from x\n",
    "        n = random.randint(0,num_examples-1)\n",
    "        \n",
    "        w = calculate_coordinate_update(y, X, lambda_, alpha, w, n)\n",
    "            \n",
    "        if it % 10000 == 0:\n",
    "            # primal objective\n",
    "            primal_value = calculate_primal_objective(y, X, w, lambda_)\n",
    "            # dual objective\n",
    "            dual_value = calculate_dual_objective(y, X, w, alpha, lambda_)\n",
    "            # primal dual gap\n",
    "            duality_gap = primal_value - dual_value\n",
    "#             print('iteration=%i, primal:%.5f, dual:%.5f, gap:%.5f'%(\n",
    "#                     it, primal_value, dual_value, duality_gap))\n",
    "    print(\"lambda: \", lambda_, \" accuracy = {l}\".format(l=calculate_accuracy(y, X, w)))\n",
    "\n",
    "# coordinate_descent_for_svm_demo(y, X)"
   ]
  },
  {
   "cell_type": "code",
   "execution_count": 14,
   "metadata": {},
   "outputs": [
    {
     "name": "stdout",
     "output_type": "stream",
     "text": [
      "lambda:  0.01  accuracy = 0.641036\n",
      "lambda:  0.02  accuracy = 0.660976\n",
      "lambda:  0.03  accuracy = 0.710516\n",
      "lambda:  0.04  accuracy = 0.670832\n",
      "lambda:  0.05  accuracy = 0.6965\n",
      "lambda:  0.06  accuracy = 0.648532\n",
      "lambda:  0.07  accuracy = 0.67762\n",
      "lambda:  0.08  accuracy = 0.693692\n",
      "lambda:  0.09  accuracy = 0.713344\n",
      "lambda:  0.1  accuracy = 0.665812\n",
      "lambda:  0.11  accuracy = 0.709404\n",
      "lambda:  0.12  accuracy = 0.664776\n",
      "lambda:  0.13  accuracy = 0.635652\n",
      "lambda:  0.14  accuracy = 0.673464\n",
      "lambda:  0.15  accuracy = 0.696288\n",
      "lambda:  0.16  accuracy = 0.655624\n",
      "lambda:  0.17  accuracy = 0.68912\n",
      "lambda:  0.18  accuracy = 0.697264\n",
      "lambda:  0.19  accuracy = 0.672344\n",
      "lambda:  0.2  accuracy = 0.719452\n",
      "lambda:  0.21  accuracy = 0.681232\n",
      "lambda:  0.22  accuracy = 0.625396\n",
      "lambda:  0.23  accuracy = 0.689524\n",
      "lambda:  0.24  accuracy = 0.623544\n",
      "lambda:  0.25  accuracy = 0.678592\n",
      "lambda:  0.26  accuracy = 0.64668\n",
      "lambda:  0.27  accuracy = 0.679472\n",
      "lambda:  0.28  accuracy = 0.68716\n",
      "lambda:  0.29  accuracy = 0.680456\n"
     ]
    }
   ],
   "source": [
    "for i in np.arange(0.01, 0.3, 0.01):\n",
    "    coordinate_descent_for_svm_demo(y, stand_x, i)"
   ]
  },
  {
   "cell_type": "markdown",
   "metadata": {},
   "source": [
    "## Cross validation"
   ]
  },
  {
   "cell_type": "code",
   "execution_count": 51,
   "metadata": {},
   "outputs": [
    {
     "data": {
      "text/plain": [
       "0.82526222222222223"
      ]
     },
     "execution_count": 51,
     "metadata": {},
     "output_type": "execute_result"
    }
   ],
   "source": [
    "from sklearn.model_selection import train_test_split\n",
    "from sklearn import datasets\n",
    "from sklearn import svm\n",
    "\n",
    "# for i = \n",
    "\n",
    "x_tr, x_te, y_tr, y_te = train_test_split(stand_x, y, test_size = 0.9, random_state = 0)\n",
    "\n",
    "# x_tr.shape\n",
    "# y_tr.shape\n",
    "\n",
    "clf = svm.SVC(kernel='rbf', C=1).fit(x_tr, y_tr)\n",
    "clf.score(x_te, y_te)\n",
    "# --------- Split the data into 5 parts -----------"
   ]
  },
  {
   "cell_type": "code",
   "execution_count": 8,
   "metadata": {
    "scrolled": true
   },
   "outputs": [
    {
     "name": "stdout",
     "output_type": "stream",
     "text": [
      "10 , 0.726372\n",
      "11 , 0.731628\n",
      "12 , 0.736484\n",
      "13 , 0.736544\n",
      "14 , 0.740532\n",
      "15 , 0.744388\n",
      "16 , 0.745148\n",
      "17 , 0.745284\n",
      "18 , 0.751232\n",
      "19 , 0.750752\n",
      "20 , 0.751012\n",
      "21 , 0.751012\n"
     ]
    },
    {
     "ename": "ValueError",
     "evalue": "n_components=22 must be between 0 and n_features=21 with svd_solver='full'",
     "output_type": "error",
     "traceback": [
      "\u001b[0;31m---------------------------------------------------------------------------\u001b[0m",
      "\u001b[0;31mValueError\u001b[0m                                Traceback (most recent call last)",
      "\u001b[0;32m<ipython-input-8-b33fb95c625b>\u001b[0m in \u001b[0;36m<module>\u001b[0;34m()\u001b[0m\n\u001b[1;32m      6\u001b[0m \u001b[0;34m\u001b[0m\u001b[0m\n\u001b[1;32m      7\u001b[0m     \u001b[0mpca\u001b[0m \u001b[0;34m=\u001b[0m \u001b[0mPCA\u001b[0m\u001b[0;34m(\u001b[0m\u001b[0mn_components\u001b[0m \u001b[0;34m=\u001b[0m \u001b[0mi\u001b[0m\u001b[0;34m)\u001b[0m\u001b[0;34m\u001b[0m\u001b[0m\n\u001b[0;32m----> 8\u001b[0;31m     \u001b[0mstand_x\u001b[0m \u001b[0;34m=\u001b[0m \u001b[0mpca\u001b[0m\u001b[0;34m.\u001b[0m\u001b[0mfit_transform\u001b[0m\u001b[0;34m(\u001b[0m\u001b[0mstand_x\u001b[0m\u001b[0;34m)\u001b[0m\u001b[0;34m\u001b[0m\u001b[0m\n\u001b[0m\u001b[1;32m      9\u001b[0m     \u001b[0mstand_x\u001b[0m\u001b[0;34m.\u001b[0m\u001b[0mshape\u001b[0m\u001b[0;34m\u001b[0m\u001b[0m\n\u001b[1;32m     10\u001b[0m \u001b[0;34m\u001b[0m\u001b[0m\n",
      "\u001b[0;32m/home/cheng-chun-epfl/anaconda3/lib/python3.6/site-packages/sklearn/decomposition/pca.py\u001b[0m in \u001b[0;36mfit_transform\u001b[0;34m(self, X, y)\u001b[0m\n\u001b[1;32m    322\u001b[0m \u001b[0;34m\u001b[0m\u001b[0m\n\u001b[1;32m    323\u001b[0m         \"\"\"\n\u001b[0;32m--> 324\u001b[0;31m         \u001b[0mU\u001b[0m\u001b[0;34m,\u001b[0m \u001b[0mS\u001b[0m\u001b[0;34m,\u001b[0m \u001b[0mV\u001b[0m \u001b[0;34m=\u001b[0m \u001b[0mself\u001b[0m\u001b[0;34m.\u001b[0m\u001b[0m_fit\u001b[0m\u001b[0;34m(\u001b[0m\u001b[0mX\u001b[0m\u001b[0;34m)\u001b[0m\u001b[0;34m\u001b[0m\u001b[0m\n\u001b[0m\u001b[1;32m    325\u001b[0m         \u001b[0mU\u001b[0m \u001b[0;34m=\u001b[0m \u001b[0mU\u001b[0m\u001b[0;34m[\u001b[0m\u001b[0;34m:\u001b[0m\u001b[0;34m,\u001b[0m \u001b[0;34m:\u001b[0m\u001b[0mself\u001b[0m\u001b[0;34m.\u001b[0m\u001b[0mn_components_\u001b[0m\u001b[0;34m]\u001b[0m\u001b[0;34m\u001b[0m\u001b[0m\n\u001b[1;32m    326\u001b[0m \u001b[0;34m\u001b[0m\u001b[0m\n",
      "\u001b[0;32m/home/cheng-chun-epfl/anaconda3/lib/python3.6/site-packages/sklearn/decomposition/pca.py\u001b[0m in \u001b[0;36m_fit\u001b[0;34m(self, X)\u001b[0m\n\u001b[1;32m    366\u001b[0m         \u001b[0;31m# Call different fits for either full or truncated SVD\u001b[0m\u001b[0;34m\u001b[0m\u001b[0;34m\u001b[0m\u001b[0m\n\u001b[1;32m    367\u001b[0m         \u001b[0;32mif\u001b[0m \u001b[0msvd_solver\u001b[0m \u001b[0;34m==\u001b[0m \u001b[0;34m'full'\u001b[0m\u001b[0;34m:\u001b[0m\u001b[0;34m\u001b[0m\u001b[0m\n\u001b[0;32m--> 368\u001b[0;31m             \u001b[0;32mreturn\u001b[0m \u001b[0mself\u001b[0m\u001b[0;34m.\u001b[0m\u001b[0m_fit_full\u001b[0m\u001b[0;34m(\u001b[0m\u001b[0mX\u001b[0m\u001b[0;34m,\u001b[0m \u001b[0mn_components\u001b[0m\u001b[0;34m)\u001b[0m\u001b[0;34m\u001b[0m\u001b[0m\n\u001b[0m\u001b[1;32m    369\u001b[0m         \u001b[0;32melif\u001b[0m \u001b[0msvd_solver\u001b[0m \u001b[0;32min\u001b[0m \u001b[0;34m[\u001b[0m\u001b[0;34m'arpack'\u001b[0m\u001b[0;34m,\u001b[0m \u001b[0;34m'randomized'\u001b[0m\u001b[0;34m]\u001b[0m\u001b[0;34m:\u001b[0m\u001b[0;34m\u001b[0m\u001b[0m\n\u001b[1;32m    370\u001b[0m             \u001b[0;32mreturn\u001b[0m \u001b[0mself\u001b[0m\u001b[0;34m.\u001b[0m\u001b[0m_fit_truncated\u001b[0m\u001b[0;34m(\u001b[0m\u001b[0mX\u001b[0m\u001b[0;34m,\u001b[0m \u001b[0mn_components\u001b[0m\u001b[0;34m,\u001b[0m \u001b[0msvd_solver\u001b[0m\u001b[0;34m)\u001b[0m\u001b[0;34m\u001b[0m\u001b[0m\n",
      "\u001b[0;32m/home/cheng-chun-epfl/anaconda3/lib/python3.6/site-packages/sklearn/decomposition/pca.py\u001b[0m in \u001b[0;36m_fit_full\u001b[0;34m(self, X, n_components)\u001b[0m\n\u001b[1;32m    381\u001b[0m             raise ValueError(\"n_components=%r must be between 0 and \"\n\u001b[1;32m    382\u001b[0m                              \u001b[0;34m\"n_features=%r with svd_solver='full'\"\u001b[0m\u001b[0;34m\u001b[0m\u001b[0m\n\u001b[0;32m--> 383\u001b[0;31m                              % (n_components, n_features))\n\u001b[0m\u001b[1;32m    384\u001b[0m \u001b[0;34m\u001b[0m\u001b[0m\n\u001b[1;32m    385\u001b[0m         \u001b[0;31m# Center data\u001b[0m\u001b[0;34m\u001b[0m\u001b[0;34m\u001b[0m\u001b[0m\n",
      "\u001b[0;31mValueError\u001b[0m: n_components=22 must be between 0 and n_features=21 with svd_solver='full'"
     ]
    }
   ],
   "source": [
    "x1 = stand_x.copy()\n",
    "for i in range(10,30):\n",
    "    stand_x = x1\n",
    "    mask = stand_x == -999\n",
    "    stand_x[mask] = 0\n",
    "\n",
    "    pca = PCA(n_components = i)\n",
    "    stand_x = pca.fit_transform(stand_x)\n",
    "    stand_x.shape\n",
    "    \n",
    "    # instantiate a logistic regression model, and fit with X and y\n",
    "    model = LogisticRegression()\n",
    "    model = model.fit(stand_x, y)\n",
    "\n",
    "    # check the accuracy on the training set\n",
    "    print(i,\",\",model.score(stand_x, y))"
   ]
  }
 ],
 "metadata": {
  "kernelspec": {
   "display_name": "Python 3",
   "language": "python",
   "name": "python3"
  },
  "language_info": {
   "codemirror_mode": {
    "name": "ipython",
    "version": 3
   },
   "file_extension": ".py",
   "mimetype": "text/x-python",
   "name": "python",
   "nbconvert_exporter": "python",
   "pygments_lexer": "ipython3",
   "version": "3.6.1"
  }
 },
 "nbformat": 4,
 "nbformat_minor": 2
}
