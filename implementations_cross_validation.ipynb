{
 "cells": [
  {
   "cell_type": "code",
   "execution_count": 1,
   "metadata": {},
   "outputs": [],
   "source": [
    "%matplotlib inline\n",
    "import numpy as np\n",
    "import matplotlib.pyplot as plt\n",
    "\n",
    "from scripts.proj1_helpers import *\n",
    "from scripts.preprocess import standardize_with_power_terms\n",
    "\n",
    "from implementations_cross_validation import least_squares_GD\n",
    "from implementations_cross_validation import least_squares_SGD\n",
    "from implementations_cross_validation import least_squares\n",
    "from implementations_cross_validation import ridge_regression\n",
    "from implementations_cross_validation import logistic_regression\n",
    "from implementations_cross_validation import reg_logistic_regression\n",
    "\n",
    "%load_ext autoreload\n",
    "%autoreload 2"
   ]
  },
  {
   "cell_type": "code",
   "execution_count": 2,
   "metadata": {},
   "outputs": [],
   "source": [
    "# load data\n",
    "raw_y, raw_x, ind = load_csv_data('higgs-data/train.csv')"
   ]
  },
  {
   "cell_type": "markdown",
   "metadata": {},
   "source": [
    "## * Data Processing\n",
    "1. Based on PRI_JET_NUM (feature 22), which ranged in value of inclusive [0,4], we devide the training data into 4 groups. From these 4 groups, we devide again each of them into 2 subsets based on outliers (-999) value in DER_MASS_MMC (feature 1). So these approach give us 8 subsets to train and to obtain the 8 corresponding models. \n",
    "<br><br>\n",
    "<b>We obtain exactly eight models (w00, w01, w10, w11, w20, w21, w30, w31)</b>.\n",
    "<br><br>We add suffixes to the model with {PRI_JET_NUM}_{DER_MASS_MMC_OUTLIERS_TAG}, 1 to indicate real values and 2 to indicate outliers.\n",
    "<br>E.g. for PRI_JET_NUM=0 and DER_MASS_MMC!=-999 we will get w0_1.<br>\n",
    "<br>\n",
    "2. We standardize the data using power terms."
   ]
  },
  {
   "cell_type": "markdown",
   "metadata": {},
   "source": [
    "### Creating Subsets"
   ]
  },
  {
   "cell_type": "code",
   "execution_count": 3,
   "metadata": {},
   "outputs": [],
   "source": [
    "def create_subsets(x, y):\n",
    "    sets_x = []\n",
    "    sets_y = []\n",
    "    for pri_jet_num_val in np.unique(x[:,22]):\n",
    "        \n",
    "        indices = (x[:,22] == pri_jet_num_val) & (x[:,0] != -999)\n",
    "        x_tmp   = x[indices,:]\n",
    "        y_tmp   = y[indices]\n",
    "\n",
    "        sets_x.append(x_tmp)\n",
    "        sets_y.append(y_tmp)\n",
    "\n",
    "        indices = (x[:,22] == pri_jet_num_val) & (x[:,0] == -999)\n",
    "        x_tmp   = x[indices,:]\n",
    "        y_tmp   = y[indices]\n",
    "\n",
    "        sets_x.append(x_tmp)\n",
    "        sets_y.append(y_tmp)\n",
    "        \n",
    "    return sets_x, sets_y\n",
    "\n",
    "sets_x, sets_y = create_subsets(raw_x, raw_y)\n",
    "\n",
    "# Subset 00 where PRI_JET_NUM = 0 and DER_MASS_MMC != -999\n",
    "x00 = sets_x[0]\n",
    "y00 = sets_y[0]\n",
    "\n",
    "# Subset 01 where PRI_JET_NUM = 0 and DER_MASS_MMC == -999\n",
    "x01 = sets_x[1]\n",
    "y01 = sets_y[1]\n",
    "\n",
    "# Subset 10 where PRI_JET_NUM = 1 and DER_MASS_MMC != -999\n",
    "x10 = sets_x[2]\n",
    "y10 = sets_y[2]\n",
    "\n",
    "# Subset 11 where PRI_JET_NUM = 1 and DER_MASS_MMC == -999\n",
    "x11 = sets_x[3]\n",
    "y11 = sets_y[3]\n",
    "\n",
    "# Subset 20 where PRI_JET_NUM = 2 and DER_MASS_MMC != -999\n",
    "x20 = sets_x[4]\n",
    "y20 = sets_y[4]\n",
    "\n",
    "# Subset 21 where PRI_JET_NUM = 2 and DER_MASS_MMC == -999\n",
    "x21 = sets_x[5]\n",
    "y21 = sets_y[5]\n",
    "\n",
    "# Subset 30 where PRI_JET_NUM = 3 and DER_MASS_MMC != -999\n",
    "x30 = sets_x[6]\n",
    "y30 = sets_y[6]\n",
    "\n",
    "# Subset 31 where PRI_JET_NUM = 3 and DER_MASS_MMC == -999\n",
    "x31 = sets_x[7]\n",
    "y31 = sets_y[7]"
   ]
  },
  {
   "cell_type": "markdown",
   "metadata": {},
   "source": [
    "### Features Reduction"
   ]
  },
  {
   "cell_type": "code",
   "execution_count": 4,
   "metadata": {},
   "outputs": [],
   "source": [
    "# if PRI_JET_NUM = 0 and DER_MASS_MMC != -999\n",
    "# We drop features 4, 5, 6, 11, 12, 15, 18, 20, 22, 23, 24, 25, 26, 27, 28, 29 \n",
    "x00 = np.delete(x00, [4, 5, 6, 11, 12, 15, 18, 20, 22, 23, 24, 25, 26, 27, 28, 29], 1)\n",
    "\n",
    "# if PRI_JET_NUM = 0 and DER_MASS_MMC == -999\n",
    "# We drop features 0, 4, 5, 6, 11, 12, 15, 18, 20, 22, 23, 24, 25, 26, 27, 28, 29 \n",
    "x01 = np.delete(x01, [0, 4, 5, 6, 11, 12, 15, 18, 20, 22, 23, 24, 25, 26, 27, 28, 29], 1)\n",
    "\n",
    "# if PRI_JET_NUM = 1 and DER_MASS_MMC != -999\n",
    "# We drop features 4, 5, 6, 11, 12, 15, 18, 20, 22, 26, 27, 28 \n",
    "x10 = np.delete(x10, [4, 5, 6, 11, 12, 15, 18, 20, 22, 26, 27, 28], 1)\n",
    "\n",
    "# if PRI_JET_NUM = 1 and DER_MASS_MMC == -999\n",
    "# We drop features 0, 4, 5, 6, 11, 12, 15, 18, 20, 22, 26, 27, 28 \n",
    "x11 = np.delete(x11, [0, 4, 5, 6, 11, 12, 15, 18, 20, 22, 26, 27, 28], 1)\n",
    "\n",
    "# if PRI_JET_NUM == 2 and DER_MASS_MMC != -999\n",
    "# We drop features 11, 15, 18, 20, 22, 28\n",
    "x20 = np.delete(x20, [11, 15, 18, 20, 22, 28], 1)\n",
    "\n",
    "# if PRI_JET_NUM == 2 and DER_MASS_MMC == -999\n",
    "# We drop features 0, 11, 15, 18, 20, 22, 28\n",
    "x21 = np.delete(x21, [0, 11, 15, 18, 20, 22, 28], 1)\n",
    "\n",
    "# if PRI_JET_NUM == 3 and DER_MASS_MMC != -999\n",
    "# We drop features 11, 15, 18, 20, 22, 28\n",
    "x30 = np.delete(x30, [11, 15, 18, 20, 22, 28], 1)\n",
    "\n",
    "# if PRI_JET_NUM == 3 and DER_MASS_MMC == -999\n",
    "# We drop features 0, 11, 15, 18, 20, 22, 28\n",
    "x31 = np.delete(x31, [0, 11, 15, 18, 20, 22, 28], 1)"
   ]
  },
  {
   "cell_type": "markdown",
   "metadata": {},
   "source": [
    "### Data Standarization Using Power Terms"
   ]
  },
  {
   "cell_type": "code",
   "execution_count": 5,
   "metadata": {},
   "outputs": [],
   "source": [
    "standardize_x00 = standardize_with_power_terms(x00, 2, True, with_sqrt=True)\n",
    "\n",
    "standardize_x01 = standardize_with_power_terms(x01, 2, True, with_sqrt=True)\n",
    "\n",
    "standardize_x10 = standardize_with_power_terms(x10, 2, True, with_sqrt=True)\n",
    "\n",
    "standardize_x11 = standardize_with_power_terms(x11, 2, True, with_sqrt=True)\n",
    "\n",
    "standardize_x20 = standardize_with_power_terms(x20, 2, True, with_sqrt=True)\n",
    "\n",
    "standardize_x21 = standardize_with_power_terms(x21, 2, True, with_sqrt=True)\n",
    "\n",
    "standardize_x30 = standardize_with_power_terms(x30, 2, True, with_sqrt=True)\n",
    "\n",
    "standardize_x31 = standardize_with_power_terms(x31, 2, True, with_sqrt=True)\n"
   ]
  },
  {
   "cell_type": "markdown",
   "metadata": {},
   "source": [
    "# Main Implementations"
   ]
  },
  {
   "cell_type": "code",
   "execution_count": 6,
   "metadata": {},
   "outputs": [],
   "source": [
    "# Final Datasets\n",
    "standardize_x = [standardize_x00, standardize_x01, standardize_x10, standardize_x11, standardize_x20, standardize_x21, standardize_x30, standardize_x31]\n",
    "sets_y        = [y00, y01, y10, y11, y20, y21, y30, y31]\n",
    "\n",
    "# Define the parameters of the algorithm.\n",
    "max_iters = 5000\n",
    "gamma     = 0.000002\n",
    "lambda_   = 0.000001"
   ]
  },
  {
   "cell_type": "markdown",
   "metadata": {},
   "source": [
    "## 1. Least Squares Using Gradient Descent"
   ]
  },
  {
   "cell_type": "code",
   "execution_count": 7,
   "metadata": {},
   "outputs": [
    {
     "name": "stdout",
     "output_type": "stream",
     "text": [
      "0.724881420247\n",
      "0.802051831719\n",
      "0.675002143408\n",
      "0.767654059773\n",
      "0.699243047209\n",
      "0.777100271003\n",
      "0.678445400493\n",
      "0.81990521327\n"
     ]
    }
   ],
   "source": [
    "for x, y in zip(standardize_x, sets_y):\n",
    "    initial_w  = np.zeros(x.shape[1])\n",
    "    accuracies = least_squares_GD(y, x, initial_w, max_iters, gamma)\n",
    "    print(\"\\n\".join(map(str,accuracies)))\n",
    "    print(\"\\n\")        "
   ]
  },
  {
   "cell_type": "markdown",
   "metadata": {},
   "source": [
    "## 2. Least Squares Using Stochastic Gradient Descent"
   ]
  },
  {
   "cell_type": "code",
   "execution_count": 8,
   "metadata": {},
   "outputs": [
    {
     "name": "stdout",
     "output_type": "stream",
     "text": [
      "0.723770158558\n",
      "0.797266776404\n",
      "0.673430310651\n",
      "0.767389579476\n",
      "0.705146857275\n",
      "0.774051490515\n",
      "0.675400009668\n",
      "0.811103588355\n"
     ]
    }
   ],
   "source": [
    "for x, y in zip(standardize_x, sets_y):\n",
    "    initial_w  = np.zeros(x.shape[1])\n",
    "    accuracies = least_squares_SGD(y, x, initial_w, max_iters, gamma)\n",
    "    print(\"\\n\".join(map(str,accuracies)))\n",
    "    print(\"\\n\")        "
   ]
  },
  {
   "cell_type": "markdown",
   "metadata": {},
   "source": [
    "## 3. Least Squares Using Normal Equations"
   ]
  },
  {
   "cell_type": "code",
   "execution_count": 7,
   "metadata": {},
   "outputs": [
    {
     "name": "stdout",
     "output_type": "stream",
     "text": [
      "0.798617698875\n",
      "0.800108415774\n",
      "0.797262501694\n",
      "0.802412250983\n",
      "0.795771784795\n",
      "0.801057053801\n",
      "0.799566336902\n",
      "0.805800243935\n",
      "0.791028594661\n",
      "0.8040384876\n",
      "\n",
      "\n",
      "0.947932618683\n",
      "0.948698315467\n",
      "0.93989280245\n",
      "0.946018376723\n",
      "0.946784073507\n",
      "0.948315467075\n",
      "0.950995405819\n",
      "0.950612557427\n",
      "0.946784073507\n",
      "0.952526799387\n",
      "\n",
      "\n",
      "0.761503286653\n",
      "0.759359817091\n",
      "0.75421549014\n",
      "0.761646184624\n",
      "0.762503572449\n",
      "0.753929694198\n",
      "0.761789082595\n",
      "0.760503000857\n",
      "0.753643898257\n",
      "0.761074592741\n",
      "\n",
      "\n",
      "0.916666666667\n",
      "0.911375661376\n",
      "0.920634920635\n",
      "0.912698412698\n",
      "0.915343915344\n",
      "0.931216931217\n",
      "0.916666666667\n",
      "0.914021164021\n",
      "0.915343915344\n",
      "0.915343915344\n",
      "\n",
      "\n",
      "0.800506115563\n",
      "0.790805567271\n",
      "0.783002952341\n",
      "0.800084352594\n",
      "0.790383804302\n",
      "0.795444959933\n",
      "0.778996204133\n",
      "0.793125263602\n",
      "0.801771404471\n",
      "0.784268241248\n",
      "\n",
      "\n",
      "0.915254237288\n",
      "0.905084745763\n",
      "0.891525423729\n",
      "0.898305084746\n",
      "0.894915254237\n",
      "0.871186440678\n",
      "0.898305084746\n",
      "0.932203389831\n",
      "0.898305084746\n",
      "0.918644067797\n",
      "\n",
      "\n",
      "0.787717601547\n",
      "0.79835589942\n",
      "0.78916827853\n",
      "0.791102514507\n",
      "0.773694390716\n",
      "0.774661508704\n",
      "0.769825918762\n",
      "0.771276595745\n",
      "0.785299806576\n",
      "0.787234042553\n",
      "\n",
      "\n",
      "0.891156462585\n",
      "0.918367346939\n",
      "0.918367346939\n",
      "0.897959183673\n",
      "0.938775510204\n",
      "0.959183673469\n",
      "0.925170068027\n",
      "0.952380952381\n",
      "0.979591836735\n",
      "0.918367346939\n",
      "\n",
      "\n"
     ]
    }
   ],
   "source": [
    "for x, y in zip(standardize_x, sets_y):\n",
    "    accuracies = least_squares(y, x)\n",
    "    print(\"\\n\".join(map(str,accuracies)))\n",
    "    print(\"\\n\")    "
   ]
  },
  {
   "cell_type": "markdown",
   "metadata": {},
   "source": [
    "## 4. Ridge Regression"
   ]
  },
  {
   "cell_type": "code",
   "execution_count": 8,
   "metadata": {},
   "outputs": [
    {
     "name": "stdout",
     "output_type": "stream",
     "text": [
      "0.798888738311\n",
      "0.800243935493\n",
      "0.797262501694\n",
      "0.802818810137\n",
      "0.795229705922\n",
      "0.801057053801\n",
      "0.798888738311\n",
      "0.805935763654\n",
      "0.790622035506\n",
      "0.804174007318\n",
      "\n",
      "\n",
      "0.947549770291\n",
      "0.948698315467\n",
      "0.93989280245\n",
      "0.946401225115\n",
      "0.946784073507\n",
      "0.948315467075\n",
      "0.950995405819\n",
      "0.950612557427\n",
      "0.946401225115\n",
      "0.952526799387\n",
      "\n",
      "\n",
      "0.762074878537\n",
      "0.758502429266\n",
      "0.752643612461\n",
      "0.761217490712\n",
      "0.76264647042\n",
      "0.753929694198\n",
      "0.761646184624\n",
      "0.759931408974\n",
      "0.753501000286\n",
      "0.760645898828\n",
      "\n",
      "\n",
      "0.916666666667\n",
      "0.912698412698\n",
      "0.920634920635\n",
      "0.912698412698\n",
      "0.915343915344\n",
      "0.931216931217\n",
      "0.916666666667\n",
      "0.912698412698\n",
      "0.915343915344\n",
      "0.914021164021\n",
      "\n",
      "\n",
      "0.800927878532\n",
      "0.791016448756\n",
      "0.783213833825\n",
      "0.799873471109\n",
      "0.789540278364\n",
      "0.793757908056\n",
      "0.778785322649\n",
      "0.79396878954\n",
      "0.800084352594\n",
      "0.78342471531\n",
      "\n",
      "\n",
      "0.918644067797\n",
      "0.901694915254\n",
      "0.891525423729\n",
      "0.898305084746\n",
      "0.894915254237\n",
      "0.877966101695\n",
      "0.898305084746\n",
      "0.925423728814\n",
      "0.908474576271\n",
      "0.918644067797\n",
      "\n",
      "\n",
      "0.790618955513\n",
      "0.79835589942\n",
      "0.790618955513\n",
      "0.791586073501\n",
      "0.771276595745\n",
      "0.77417794971\n",
      "0.775145067698\n",
      "0.771276595745\n",
      "0.787717601547\n",
      "0.787234042553\n",
      "\n",
      "\n",
      "0.891156462585\n",
      "0.918367346939\n",
      "0.918367346939\n",
      "0.897959183673\n",
      "0.938775510204\n",
      "0.952380952381\n",
      "0.925170068027\n",
      "0.952380952381\n",
      "0.979591836735\n",
      "0.918367346939\n",
      "\n",
      "\n"
     ]
    }
   ],
   "source": [
    "for x, y in zip(standardize_x, sets_y):\n",
    "    accuracies = ridge_regression(y, x, lambda_)\n",
    "    print(\"\\n\".join(map(str,accuracies)))\n",
    "    print(\"\\n\")    "
   ]
  },
  {
   "cell_type": "markdown",
   "metadata": {},
   "source": [
    "## 5. Logistic Regression using Gradient Descent"
   ]
  },
  {
   "cell_type": "code",
   "execution_count": 34,
   "metadata": {},
   "outputs": [
    {
     "name": "stdout",
     "output_type": "stream",
     "text": [
      "0.8060577314\n",
      "0.94839796348\n",
      "0.788331285188\n",
      "0.918011108172\n",
      "0.82054525903\n",
      "0.906165311653\n",
      "0.809252187364\n",
      "0.93432633717\n"
     ]
    }
   ],
   "source": [
    "for x, y in zip(standardize_x, sets_y):\n",
    "    initial_w = np.zeros(x.shape[1])\n",
    "    accuracies   = logistic_regression(y, x, initial_w, max_iters, gamma)   \n",
    "    print(\"\\n\".join(map(str,accuracies)))\n",
    "    print(\"\\n\")"
   ]
  },
  {
   "cell_type": "markdown",
   "metadata": {},
   "source": [
    "## 6. Regularized Logistic Regression using Gradient Descent"
   ]
  },
  {
   "cell_type": "code",
   "execution_count": 9,
   "metadata": {},
   "outputs": [
    {
     "name": "stdout",
     "output_type": "stream",
     "text": [
      "0.8060577314\n",
      "0.94839796348\n",
      "0.788345574576\n",
      "0.918011108172\n",
      "0.82054525903\n",
      "0.906165311653\n",
      "0.809300526901\n",
      "0.93432633717\n"
     ]
    }
   ],
   "source": [
    "for x, y in zip(standardize_x, sets_y):\n",
    "    initial_w = np.zeros(x.shape[1])\n",
    "    accuracies   = reg_logistic_regression(y, x, initial_w, max_iters, gamma, lambda_)\n",
    "    print(\"\\n\".join(map(str,accuracies)))  \n",
    "    print(\"\\n\")    "
   ]
  }
 ],
 "metadata": {
  "kernelspec": {
   "display_name": "Python [default]",
   "language": "python",
   "name": "python3"
  },
  "language_info": {
   "codemirror_mode": {
    "name": "ipython",
    "version": 3
   },
   "file_extension": ".py",
   "mimetype": "text/x-python",
   "name": "python",
   "nbconvert_exporter": "python",
   "pygments_lexer": "ipython3",
   "version": "3.6.1"
  }
 },
 "nbformat": 4,
 "nbformat_minor": 2
}
