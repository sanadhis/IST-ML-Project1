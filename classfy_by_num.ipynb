{
 "cells": [
  {
   "cell_type": "code",
   "execution_count": 1,
   "metadata": {
    "collapsed": true
   },
   "outputs": [],
   "source": [
    "%matplotlib inline\n",
    "import numpy as np\n",
    "import matplotlib.pyplot as plt\n",
    "import sys\n",
    "import pandas as pd\n",
    "import scipy as sp\n",
    "\n",
    "# sys.path.append('scripts/')\n",
    "from scripts.ml_method import *\n",
    "from scripts.proj1_helpers import *\n",
    "from scripts.preprocess import *\n",
    "from scripts.split_data import *\n",
    "from scripts.model_testing import *\n",
    "\n",
    "\n",
    "from sklearn.linear_model import LogisticRegression\n",
    "from sklearn.decomposition import PCA\n",
    "\n",
    "\n",
    "%load_ext autoreload\n",
    "%autoreload 2\n"
   ]
  },
  {
   "cell_type": "markdown",
   "metadata": {},
   "source": [
    "## Load data"
   ]
  },
  {
   "cell_type": "code",
   "execution_count": 10,
   "metadata": {
    "collapsed": true
   },
   "outputs": [],
   "source": [
    "y, x, ind = load_csv_data('higgs-data/train.csv')"
   ]
  },
  {
   "cell_type": "code",
   "execution_count": 11,
   "metadata": {},
   "outputs": [],
   "source": [
    "miss_list = [0, 4, 5, 6, 12, 23, 24, 25, 26, 27, 28]\n",
    "\n",
    "for ind_i, i in enumerate(miss_list):\n",
    "    dis = x[(x[:,i] != -999),i]\n",
    "    mask = (x[:,i] == -999)\n",
    "\n",
    "#     mask = (x[:,i] == -999) & (y == -1)\n",
    "    x[mask, i] = np.random.choice(dis, len(x[mask,i]))\n",
    "\n",
    "x = np.delete(x, [15,18,20,25,28], 1)"
   ]
  },
  {
   "cell_type": "markdown",
   "metadata": {},
   "source": [
    "## Clean data and normalize data"
   ]
  },
  {
   "cell_type": "code",
   "execution_count": 12,
   "metadata": {
    "collapsed": true
   },
   "outputs": [],
   "source": [
    "# split the data by PRI_jet_num\n",
    "x_data = []\n",
    "y_data = []\n",
    "stand_x = []\n",
    "\n",
    "for i in range(4):\n",
    "    x_data.append(x[(x[:,19] == i),:])\n",
    "    x_data[i] = np.delete(x_data[i], [19], 1)\n",
    "    if i == 0:\n",
    "        x_data[i] = np.delete(x_data[i], [23], 1)\n",
    "    y_data.append(y[(x[:,19] == i)])\n",
    "\n",
    "    stand_x.append(standardize(x_data[i], with_ones = True))\n"
   ]
  },
  {
   "cell_type": "code",
   "execution_count": 13,
   "metadata": {},
   "outputs": [
    {
     "name": "stdout",
     "output_type": "stream",
     "text": [
      "0.849479583667\n",
      "0.814055448098\n",
      "0.845375148869\n",
      "0.842580063148\n"
     ]
    }
   ],
   "source": [
    "# logistic regression\n",
    "\n",
    "# weights = []\n",
    "\n",
    "# for i in range(4):  \n",
    "#     x_tr, x_te, y_tr, y_te = split_data(stand_x[i], y_data[i], 0.8, myseed=1)\n",
    "#     losses, w = logistic_regression(y_tr, x_tr , np.zeros(stand_x[i].shape[1]),300, 0.000005)\n",
    "#     weights.append(w)\n",
    "#     y_pred = predict_labels(w, x_te)\n",
    "#     print(np.mean(y_pred == y_te))\n",
    "\n",
    "from sklearn.model_selection import train_test_split\n",
    "from sklearn import datasets\n",
    "from sklearn import svm\n",
    "clf = []\n",
    "\n",
    "for i in range(4):  \n",
    "    x_tr, x_te, y_tr, y_te = split_data(stand_x[i], y_data[i], 0.9, myseed=1)\n",
    "    clf.append(svm.SVC(kernel='rbf', C=1).fit(x_tr, y_tr))\n",
    "    print(clf[i].score(x_te, y_te))\n"
   ]
  },
  {
   "cell_type": "code",
   "execution_count": 16,
   "metadata": {},
   "outputs": [],
   "source": [
    "# y, x, ind = load_csv_data('higgs-data/test.csv')\n",
    "\n",
    "# # preprocess missing values\n",
    "# miss_list = [0, 4, 5, 6, 12, 23, 24, 25, 26, 27, 28]\n",
    "# for ind_i, i in enumerate(miss_list):\n",
    "#     dis = x[(x[:,i] != -999),i]\n",
    "#     mask = (x[:,i] == -999)\n",
    "#     x[mask, i] = np.random.choice(dis, len(x[mask,i]))\n",
    "    \n",
    "# # store their jet_num\n",
    "# jet_num = x[:,22]\n",
    "# y_prediction = np.ones(len(y))\n",
    "\n",
    "# for i in range(4):\n",
    "#     x_data = x[(x[:,22] == i),:]\n",
    "#     x_data = np.delete(x_data, [22], 1)\n",
    "#     if i == 0:\n",
    "#         x_data = np.delete(x_data, [28], 1)\n",
    "#     stand_x = standardize(x_data, with_ones = True)\n",
    "    \n",
    "#     y_pred = clf[i].predict(stand_x)\n",
    "#     y_prediction[jet_num == i] = y_pred\n",
    "    \n",
    "# create_csv_submission(ind, y_prediction, 'prediction.csv')\n",
    "\n",
    "y, x, ind = load_csv_data('higgs-data/test.csv')\n",
    "\n",
    "# preprocess missing values\n",
    "miss_list = [0, 4, 5, 6, 12, 23, 24, 25, 26, 27, 28]\n",
    "for ind_i, i in enumerate(miss_list):\n",
    "    dis = x[(x[:,i] != -999),i]\n",
    "    mask = (x[:,i] == -999)\n",
    "    x[mask, i] = np.random.choice(dis, len(x[mask,i]))\n",
    "\n",
    "jet_num = x[:,22]    \n",
    "x = np.delete(x, [15,18,20,25,28], 1)\n",
    "# store their jet_num\n",
    "\n",
    "y_prediction = np.ones(len(y))\n",
    "\n",
    "for i in range(4):\n",
    "    x_data = x[(x[:,19] == i),:]\n",
    "    x_data = np.delete(x_data, [19], 1)\n",
    "    if i == 0:\n",
    "        x_data = np.delete(x_data, [23], 1)\n",
    "    stand_x = standardize(x_data, with_ones = True)\n",
    "    \n",
    "    y_pred = clf[i].predict(stand_x)\n",
    "    y_prediction[jet_num == i] = y_pred\n",
    "    \n",
    "create_csv_submission(ind, y_prediction, 'prediction.csv')"
   ]
  },
  {
   "cell_type": "code",
   "execution_count": 104,
   "metadata": {
    "collapsed": true
   },
   "outputs": [],
   "source": [
    "# import test data\n",
    "y, x, ind = load_csv_data('higgs-data/test.csv')\n",
    "\n",
    "# preprocess missing values\n",
    "miss_list = [0, 4, 5, 6, 12, 23, 24, 25, 26, 27, 28]\n",
    "for ind_i, i in enumerate(miss_list):\n",
    "    dis = x[(x[:,i] != -999),i]\n",
    "    mask = (x[:,i] == -999)\n",
    "    x[mask, i] = np.random.choice(dis, len(x[mask,i]))\n",
    "    "
   ]
  },
  {
   "cell_type": "code",
   "execution_count": 106,
   "metadata": {
    "collapsed": true
   },
   "outputs": [],
   "source": [
    "# store their jet_num\n",
    "jet_num = x[:,22]\n",
    "y_prediction = np.ones(len(y))\n",
    "\n",
    "for i in range(4):\n",
    "    x_data = x[(x[:,22] == i),:]\n",
    "    x_data = np.delete(x_data, [22], 1)\n",
    "    if i == 0:\n",
    "        x_data = np.delete(x_data, [28], 1)\n",
    "    stand_x = standardize(x_data, with_ones = True)\n",
    "    \n",
    "    y_pred = predict_labels(weights[i], stand_x)\n",
    "    y_prediction[jet_num == i] = y_pred\n",
    "    \n",
    "# create_csv_submission(ind, k, 'prediction.csv')"
   ]
  },
  {
   "cell_type": "code",
   "execution_count": 109,
   "metadata": {
    "collapsed": true
   },
   "outputs": [],
   "source": [
    "# sum(y_prediction)\n",
    "create_csv_submission(ind, y_prediction, 'prediction.csv')"
   ]
  },
  {
   "cell_type": "code",
   "execution_count": 82,
   "metadata": {},
   "outputs": [
    {
     "name": "stdout",
     "output_type": "stream",
     "text": [
      "[  5.38368404e+01   3.20033910e+01   3.80434789e+01   1.66746235e+01\n",
      "   1.74097290e+00   3.99143596e+02   3.57836172e+00   6.93291612e-01\n",
      "   1.66746235e+01   2.35609388e+01   5.81592904e-01   9.36702015e-01\n",
      "   3.98844927e-01   1.52294643e+01   1.23342423e+00   1.81734217e+00\n",
      "   1.45859060e+01   1.31084863e+00   1.81783473e+00   2.02944391e+01\n",
      "   1.81099743e+00   5.30863344e+01   0.00000000e+00   5.99556270e+01\n",
      "   1.78391960e+00   1.81098530e+00   3.19510005e+01   2.03334822e+00\n",
      "   1.81857374e+00   0.00000000e+00]\n"
     ]
    },
    {
     "name": "stderr",
     "output_type": "stream",
     "text": [
      "D:\\Dropbox\\EPFL\\course\\ML_2017\\projects\\IST-ML-Project1\\scripts\\preprocess.py:13: RuntimeWarning: invalid value encountered in true_divide\n",
      "  stand_x = (x * mask - mean)/std_dev\n"
     ]
    },
    {
     "data": {
      "text/plain": [
       "(250000, 30)"
      ]
     },
     "execution_count": 82,
     "metadata": {},
     "output_type": "execute_result"
    }
   ],
   "source": [
    "# stand_x = standardize(x, with_ones = True)\n",
    "# stand_x = standardize(x, with_ones = True)\n",
    "standardize(x_data[0], with_ones=True)\n",
    "x.shape\n",
    "# type(x)"
   ]
  },
  {
   "cell_type": "markdown",
   "metadata": {},
   "source": [
    "## Split data"
   ]
  },
  {
   "cell_type": "code",
   "execution_count": 9,
   "metadata": {
    "collapsed": true
   },
   "outputs": [],
   "source": [
    "x_tr, x_te, y_tr, y_te = split_data(stand_x, y, 0.8, myseed=1)"
   ]
  },
  {
   "cell_type": "markdown",
   "metadata": {},
   "source": [
    "## Cross validation"
   ]
  },
  {
   "cell_type": "code",
   "execution_count": 60,
   "metadata": {},
   "outputs": [
    {
     "data": {
      "text/plain": [
       "0.80617505723049787"
      ]
     },
     "execution_count": 60,
     "metadata": {},
     "output_type": "execute_result"
    }
   ],
   "source": [
    "from sklearn.model_selection import train_test_split\n",
    "from sklearn import datasets\n",
    "from sklearn import svm\n",
    "\n",
    "x_tr, x_te, y_tr, y_te = train_test_split(stand_x, y, test_size = 0.9, random_state = 0)\n",
    "\n",
    "# x_tr.shape\n",
    "# y_tr.shape\n",
    "\n",
    "clf = svm.SVC(kernel='rbf', C=1).fit(x_tr, y_tr)\n",
    "clf.score(x_te, y_te)\n",
    "# --------- Split the data into 5 parts -----------"
   ]
  },
  {
   "cell_type": "code",
   "execution_count": 10,
   "metadata": {},
   "outputs": [
    {
     "data": {
      "text/plain": [
       "0.75094000000000005"
      ]
     },
     "execution_count": 10,
     "metadata": {},
     "output_type": "execute_result"
    }
   ],
   "source": [
    "# logistic regression\n",
    "losses, w = logistic_regression(y_tr, x_tr , np.zeros(stand_x.shape[1]),300, 0.000005)\n",
    "\n",
    "y_pred = predict_labels(w, x_te)\n",
    "\n",
    "np.mean(y_pred == y_te)"
   ]
  },
  {
   "cell_type": "code",
   "execution_count": 15,
   "metadata": {
    "collapsed": true
   },
   "outputs": [],
   "source": [
    "# svm\n",
    "y, x, ind = load_csv_data('higgs-data/test.csv')\n",
    "\n",
    "miss_list = [0, 4, 5, 6, 12, 23, 24, 25, 26, 27, 28]\n",
    "\n",
    "for ind_i, i in enumerate(miss_list):\n",
    "    dis = x[(x[:,i] != -999),i]\n",
    "    mask = (x[:,i] == -999) & (y == -1)\n",
    "    x[mask, i] = np.random.choice(dis, len(x[mask,i]))\n",
    "    \n",
    "stand_x = standardize(x, with_ones = True)\n",
    "k = clf.predict(stand_x)\n",
    "create_csv_submission(ind, k, 'prediction.csv')"
   ]
  },
  {
   "cell_type": "code",
   "execution_count": 23,
   "metadata": {},
   "outputs": [
    {
     "data": {
      "text/plain": [
       "147426"
      ]
     },
     "execution_count": 23,
     "metadata": {},
     "output_type": "execute_result"
    }
   ],
   "source": [
    "# len(k == -1)\n",
    "(k == -1).sum()"
   ]
  }
 ],
 "metadata": {
  "kernelspec": {
   "display_name": "Python 3",
   "language": "python",
   "name": "python3"
  },
  "language_info": {
   "codemirror_mode": {
    "name": "ipython",
    "version": 3
   },
   "file_extension": ".py",
   "mimetype": "text/x-python",
   "name": "python",
   "nbconvert_exporter": "python",
   "pygments_lexer": "ipython3",
   "version": "3.6.1"
  }
 },
 "nbformat": 4,
 "nbformat_minor": 2
}
