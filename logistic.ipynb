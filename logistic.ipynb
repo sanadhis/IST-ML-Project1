{
 "cells": [
  {
   "cell_type": "code",
   "execution_count": 3,
   "metadata": {},
   "outputs": [
    {
     "name": "stdout",
     "output_type": "stream",
     "text": [
      "The autoreload extension is already loaded. To reload it, use:\n",
      "  %reload_ext autoreload\n"
     ]
    }
   ],
   "source": [
    "%matplotlib inline\n",
    "import numpy as np\n",
    "import matplotlib.pyplot as plt\n",
    "import sys\n",
    "\n",
    "from scripts.ml_method import *\n",
    "from scripts.proj1_helpers import *\n",
    "from scripts.preprocess import *\n",
    "from scripts.split_data import *\n",
    "from scripts.model_testing import *\n",
    "from scripts.cross_validation import *\n",
    "\n",
    "from sklearn.linear_model import LogisticRegression, LogisticRegressionCV\n",
    "\n",
    "%load_ext autoreload\n",
    "%autoreload 2"
   ]
  },
  {
   "cell_type": "code",
   "execution_count": 16,
   "metadata": {
    "collapsed": true
   },
   "outputs": [],
   "source": [
    "# load data\n",
    "y, x, ind = load_csv_data('higgs-data/train.csv')"
   ]
  },
  {
   "cell_type": "code",
   "execution_count": 17,
   "metadata": {
    "collapsed": true
   },
   "outputs": [],
   "source": [
    "# randomly assign values based on distribution of b and s\n",
    "miss_list = [0, 4, 5, 6, 12, 23, 24, 25, 26, 27, 28]\n",
    "resol = 10\n",
    "dis_bin_b = np.zeros([len(miss_list), resol])\n",
    "dis_bin_s = np.zeros([len(miss_list), resol])\n",
    "min_max_b = np.zeros([len(miss_list),2])\n",
    "min_max_s = np.zeros([len(miss_list),2])\n",
    "        \n",
    "len_y = len(y)\n",
    "\n",
    "for ind_i, i in enumerate(miss_list):\n",
    "    # b's distribution \n",
    "    mask_b = ((x[:,i] == -999) & (y == -1))\n",
    "    mask_s = ((x[:,i] == -999) & (y == 1))\n",
    "    dis_b = x[((x[:,i] != -999) & (y == -1)),i]\n",
    "    dis_s = x[((x[:,i] != -999) & (y == 1)),i]\n",
    "    dis = x[(x[:,i] != -999),i]\n",
    "    mask = (x[:,i] == -999) & (y == -1)\n",
    "    \n",
    "#     x[mask, i] = np.random.choice(dis, len(x[mask,i]))\n",
    "    x[mask_b, i] = np.random.choice(dis_b, len(x[mask_b, i]))\n",
    "    x[mask_s, i] = np.random.choice(dis_s, len(x[mask_s, i]))\n",
    "\n",
    "    min_max_b[ind_i, 1] = max_b = dis_b.max()\n",
    "    min_max_b[ind_i, 0] = min_b = dis_b.min()\n",
    "    min_max_s[ind_i, 1] = max_s = dis_s.max()\n",
    "    min_max_s[ind_i, 0] = min_s = dis_s.min()\n",
    "    width_b = (max_b - min_b)/resol\n",
    "    width_s = (max_s - min_s)/resol\n",
    "    \n",
    "    x_tmp = x[:, i]\n",
    "    \n",
    "    for j in range(resol):\n",
    "        dis_bin_b[ind_i][j] = len(x_tmp[(x_tmp >= (min_b + j * width_b)) & (x_tmp <= (min_b + (j+1) * width_b))])/len_y\n",
    "        dis_bin_s[ind_i][j] = len(x_tmp[(x_tmp >= (min_s + j * width_s)) & (x_tmp <= (min_s + (j+1) * width_s))])/len_y"
   ]
  },
  {
   "cell_type": "code",
   "execution_count": null,
   "metadata": {
    "collapsed": true
   },
   "outputs": [],
   "source": [
    "# assign random values to -999\n",
    "miss_list = [0, 4, 5, 6, 12, 23, 24, 25, 26, 27, 28]\n",
    "\n",
    "for ind_i, i in enumerate(miss_list):\n",
    "    dis = x[(x[:,i] != -999),i]\n",
    "    mask = (x[:,i] == -999)\n",
    "\n",
    "    x[mask, i] = np.random.choice(dis, len(x[mask,i]))"
   ]
  },
  {
   "cell_type": "code",
   "execution_count": 18,
   "metadata": {
    "collapsed": true
   },
   "outputs": [],
   "source": [
    "# delete phi features\n",
    "x = np.delete(x, [11,15,18,20,28],1)"
   ]
  },
  {
   "cell_type": "code",
   "execution_count": 22,
   "metadata": {
    "collapsed": true
   },
   "outputs": [],
   "source": [
    "# standardization (insert 0 to missing values)\n",
    "# stand_x = standardize(x, True)\n",
    "# stand_x = standardize_with_power_23(x, True)\n",
    "stand_x = standardize_with_power_terms(x, 4, True)\n",
    "# stand_x = standardize_with_all_power_2(x, True)"
   ]
  },
  {
   "cell_type": "code",
   "execution_count": 23,
   "metadata": {},
   "outputs": [
    {
     "name": "stderr",
     "output_type": "stream",
     "text": [
      "/home/cheng-chun-epfl/Dropbox/EPFL/course/ML_2017/projects/IST-ML-Project1/scripts/ml_method.py:112: RuntimeWarning: divide by zero encountered in log\n",
      "  loss = ((y + 1)/2).T.dot(np.log(pred)) + ((1 - y)/2).T.dot(np.log(1 - pred))\n"
     ]
    },
    {
     "name": "stdout",
     "output_type": "stream",
     "text": [
      "0.83631 ,  0.83494\n",
      "0.83612 ,  0.83512\n",
      "0.835685 ,  0.83716\n",
      "0.8362 ,  0.83522\n",
      "0.835705 ,  0.83678\n",
      "mean te:  0.835844\n",
      "stdev te:  0.000931527777364\n",
      "mean tr:  0.836004\n",
      "stdev tr:  0.000259487957331\n"
     ]
    }
   ],
   "source": [
    "# logistic regression\n",
    "\n",
    "k_fold = 5\n",
    "acc_tr = np.zeros(k_fold)\n",
    "acc_te = np.zeros(k_fold)\n",
    "weights = np.zeros([k_fold, stand_x.shape[1]])\n",
    "\n",
    "k_indices = build_k_indices(y, k_fold, 1)\n",
    "\n",
    "for k in range(k_fold):\n",
    "    acc_tr[k], acc_te[k], weights[k,:] = cross_validation(y, stand_x, k_indices, k)\n",
    "    print(acc_tr[k], ', ', acc_te[k])\n",
    "\n",
    "print('mean te: ', np.mean(acc_te))\n",
    "print('stdev te: ', np.std(acc_te))\n",
    "print('mean tr: ', np.mean(acc_tr))\n",
    "print('stdev tr: ', np.std(acc_tr))"
   ]
  },
  {
   "cell_type": "code",
   "execution_count": 24,
   "metadata": {
    "scrolled": true
   },
   "outputs": [
    {
     "data": {
      "text/plain": [
       "0.83602399999999999"
      ]
     },
     "execution_count": 24,
     "metadata": {},
     "output_type": "execute_result"
    }
   ],
   "source": [
    "# accuracy of average weights\n",
    "\n",
    "w = np.zeros(stand_x.shape[1])\n",
    "for i in range(stand_x.shape[1]):\n",
    "    w[i] = sum(weights[:,i])/k_fold\n",
    "np.mean(predict_labels(w, stand_x) == y)"
   ]
  },
  {
   "cell_type": "code",
   "execution_count": null,
   "metadata": {
    "collapsed": true
   },
   "outputs": [],
   "source": [
    "y1, x1, ind = load_csv_data('higgs-data/test.csv')\n",
    "\n",
    "x1 = np.delete(x1, [11,15,18,20,28],1)\n",
    "\n",
    "stand_x = standardize_with_power_23(x1, True)\n",
    "\n",
    "y_pred = predict_labels(w, stand_x)\n",
    "\n",
    "create_csv_submission(ind, y_pred, 'prediction.csv')"
   ]
  },
  {
   "cell_type": "markdown",
   "metadata": {},
   "source": [
    "## ------ below is just used to test -----"
   ]
  },
  {
   "cell_type": "code",
   "execution_count": null,
   "metadata": {
    "collapsed": true
   },
   "outputs": [],
   "source": [
    "x_tr, x_te, y_tr, y_te = split_data(stand_x, y, 0.8, myseed=1)\n",
    "\n",
    "model = LogisticRegression().fit(x_tr, y_tr)\n",
    "\n",
    "np.mean(model.predict(x_te) == y_te)"
   ]
  },
  {
   "cell_type": "code",
   "execution_count": 11,
   "metadata": {
    "collapsed": true
   },
   "outputs": [],
   "source": [
    "import pandas as pd\n",
    "import numpy as np\n",
    "import matplotlib.pyplot as plt\n",
    "from pandas.plotting import scatter_matrix\n",
    "from scripts.preprocess import *\n",
    "import seaborn as sns"
   ]
  },
  {
   "cell_type": "code",
   "execution_count": 25,
   "metadata": {
    "collapsed": true
   },
   "outputs": [],
   "source": [
    "data = pd.DataFrame(stand_x)\n",
    "data['Prediction'] = y"
   ]
  },
  {
   "cell_type": "code",
   "execution_count": 26,
   "metadata": {
    "collapsed": true
   },
   "outputs": [],
   "source": [
    "len(data.Prediction[y == 1])\n",
    "data1 = data.sort_values('Prediction', ascending = False)[0:85667*2]\n",
    "data2 = data1[0:1000]\n",
    "# data3 = data1[85667:86667]\n",
    "data2 = data2.append(data1[85667:86667])"
   ]
  },
  {
   "cell_type": "code",
   "execution_count": 28,
   "metadata": {},
   "outputs": [],
   "source": [
    "data2['sigmoid'] = sigmoid(data2[data2.columns[0:101]], w)\n",
    "# data3['sigmoid'] = sigmoid(data3[data3.columns[0:101]], w)"
   ]
  },
  {
   "cell_type": "code",
   "execution_count": 35,
   "metadata": {},
   "outputs": [
    {
     "ename": "TypeError",
     "evalue": "unsupported operand type(s) for +: 'int' and 'str'",
     "output_type": "error",
     "traceback": [
      "\u001b[0;31m---------------------------------------------------------------------------\u001b[0m",
      "\u001b[0;31mTypeError\u001b[0m                                 Traceback (most recent call last)",
      "\u001b[0;32m<ipython-input-35-5f7a9a9692cf>\u001b[0m in \u001b[0;36m<module>\u001b[0;34m()\u001b[0m\n\u001b[1;32m     21\u001b[0m \u001b[0;32mfor\u001b[0m \u001b[0mi\u001b[0m\u001b[0;34m,\u001b[0m \u001b[0mind\u001b[0m \u001b[0;32min\u001b[0m \u001b[0menumerate\u001b[0m\u001b[0;34m(\u001b[0m\u001b[0mdata2\u001b[0m\u001b[0;34m.\u001b[0m\u001b[0mcolumns\u001b[0m\u001b[0;34m[\u001b[0m\u001b[0;36m0\u001b[0m\u001b[0;34m:\u001b[0m\u001b[0;36m26\u001b[0m\u001b[0;34m]\u001b[0m\u001b[0;34m)\u001b[0m\u001b[0;34m:\u001b[0m\u001b[0;34m\u001b[0m\u001b[0m\n\u001b[1;32m     22\u001b[0m     \u001b[0mfig\u001b[0m \u001b[0;34m=\u001b[0m \u001b[0mgetFig\u001b[0m\u001b[0;34m(\u001b[0m\u001b[0mi\u001b[0m\u001b[0;34m)\u001b[0m\u001b[0;34m\u001b[0m\u001b[0m\n\u001b[0;32m---> 23\u001b[0;31m     \u001b[0mfig\u001b[0m\u001b[0;34m.\u001b[0m\u001b[0msavefig\u001b[0m\u001b[0;34m(\u001b[0m\u001b[0mind\u001b[0m\u001b[0;34m+\u001b[0m\u001b[0;34m'.jpg'\u001b[0m\u001b[0;34m)\u001b[0m\u001b[0;34m\u001b[0m\u001b[0m\n\u001b[0m\u001b[1;32m     24\u001b[0m \u001b[0;31m#     fig, axes = plt.subplots(nrows=2, ncols=1)\u001b[0m\u001b[0;34m\u001b[0m\u001b[0;34m\u001b[0m\u001b[0m\n\u001b[1;32m     25\u001b[0m \u001b[0;31m#     getFig(data2,i)\u001b[0m\u001b[0;34m\u001b[0m\u001b[0;34m\u001b[0m\u001b[0m\n",
      "\u001b[0;31mTypeError\u001b[0m: unsupported operand type(s) for +: 'int' and 'str'"
     ]
    },
    {
     "data": {
      "image/png": "[encoded data removed]",
      "text/plain": [
       "<matplotlib.figure.Figure at 0x7fee73377c88>"
      ]
     },
     "metadata": {},
     "output_type": "display_data"
    }
   ],
   "source": [
    "def getFig(i):\n",
    "    fig, ax = plt.subplots()\n",
    "    categories = np.unique(data2['Prediction'])\n",
    "    colors = np.linspace(0, 1, len(categories))\n",
    "    colordict = dict(zip(categories, colors))  \n",
    "\n",
    "    data2[\"Color\"] = data2['Prediction'].apply(lambda x: colordict[x])\n",
    "    ax.scatter(data2[i], data2['sigmoid'], c=data2.Color)\n",
    "    return fig\n",
    "# def getFig(frame, i):\n",
    "#     fig, ax = plt.subplots()\n",
    "#     categories = np.unique(frame['Prediction'])\n",
    "#     colors = np.linspace(0, 1, len(categories))\n",
    "#     colordict = dict(zip(categories, colors))  \n",
    "\n",
    "#     frame[\"Color\"] = frame['Prediction'].apply(lambda x: colordict[x])\n",
    "#     fig = ax.scatter(frame[i], frame['sigmoid'], c=data2.Color)    \n",
    "    \n",
    "#     return fig\n",
    "    \n",
    "for i, ind in enumerate(data2.columns[0:26]):\n",
    "    fig = getFig(i)\n",
    "    fig.savefig(ind+'.jpg')\n",
    "#     fig, axes = plt.subplots(nrows=2, ncols=1)\n",
    "#     getFig(data2,i)\n",
    "#     getFig(data3,i)\n",
    "#     fig1 = fig.get_figure()\n"
   ]
  },
  {
   "cell_type": "code",
   "execution_count": 52,
   "metadata": {},
   "outputs": [
    {
     "data": {
      "image/png": "[encoded data removed]",
      "text/plain": [
       "<matplotlib.figure.Figure at 0x17d0d048240>"
      ]
     },
     "metadata": {},
     "output_type": "display_data"
    }
   ],
   "source": [
    "def dfScatter(df, xcol='Height', ycol='Weight', catcol='Gender'):\n",
    "    fig, ax = plt.subplots()\n",
    "    categories = np.unique(df[catcol])\n",
    "    colors = np.linspace(0, 1, len(categories))\n",
    "    colordict = dict(zip(categories, colors))  \n",
    "\n",
    "    df[\"Color\"] = df[catcol].apply(lambda x: colordict[x])\n",
    "    ax.scatter(df[xcol], df[ycol], c=df.Color)\n",
    "    return fig\n",
    "\n",
    "if 1:\n",
    "    df = pd.DataFrame({'Height':np.random.normal(size=10),\n",
    "                       'Weight':np.random.normal(size=10),\n",
    "                       'Gender': [\"Male\",\"Male\",\"Unknown\",\"Male\",\"Male\",\n",
    "                                  \"Female\",\"Did not respond\",\"Unknown\",\"Female\",\"Female\"]})    \n",
    "    fig = dfScatter(df)"
   ]
  },
  {
   "cell_type": "code",
   "execution_count": null,
   "metadata": {
    "collapsed": true
   },
   "outputs": [],
   "source": [
    "# test the power\n",
    "# for power in range(2, 10):\n",
    "#     stand_x = standardize_with_power_terms(x, power, True)\n",
    "\n",
    "#     k_fold = 10\n",
    "#     acc_tr = np.zeros(k_fold)\n",
    "#     acc_te = np.zeros(k_fold)\n",
    "#     weights = np.zeros([k_fold, stand_x.shape[1]])\n",
    "\n",
    "#     k_indices = build_k_indices(y, k_fold, 1)\n",
    "#     print('--------- power ', power, ' ---------')\n",
    "#     for k in range(k_fold):\n",
    "#         acc_tr[k], acc_te[k], weights[k,:] = cross_validation(y, stand_x, k_indices, k)\n",
    "#         print(acc_tr[k], ', ', acc_te[k])\n",
    "\n",
    "#     print('mean te: ', np.mean(acc_te))\n",
    "#     print('stdev te: ', np.std(acc_te))\n",
    "#     print('mean tr: ', np.mean(acc_tr))\n",
    "#     print('stdev tr: ', np.std(acc_tr))\n",
    "    \n",
    "#     w = np.zeros(26 + 25*(power - 1))\n",
    "#     for i in range(26 + 25*(power - 1)):\n",
    "#         w[i] = sum(weights[:,i])/10\n",
    "#     print(np.mean(predict_labels(w, stand_x) == y))"
   ]
  }
 ],
 "metadata": {
  "kernelspec": {
   "display_name": "Python 3",
   "language": "python",
   "name": "python3"
  },
  "language_info": {
   "codemirror_mode": {
    "name": "ipython",
    "version": 3
   },
   "file_extension": ".py",
   "mimetype": "text/x-python",
   "name": "python",
   "nbconvert_exporter": "python",
   "pygments_lexer": "ipython3",
   "version": "3.6.1"
  }
 },
 "nbformat": 4,
 "nbformat_minor": 2
}
