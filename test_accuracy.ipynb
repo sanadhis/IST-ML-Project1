{
 "cells": [
  {
   "cell_type": "code",
   "execution_count": 4,
   "metadata": {},
   "outputs": [
    {
     "name": "stdout",
     "output_type": "stream",
     "text": [
      "The autoreload extension is already loaded. To reload it, use:\n",
      "  %reload_ext autoreload\n"
     ]
    }
   ],
   "source": [
    "%matplotlib inline\n",
    "import numpy as np\n",
    "import matplotlib.pyplot as plt\n",
    "import sys\n",
    "import pandas as pd\n",
    "from sklearn.decomposition import PCA\n",
    "sys.path.append('scripts/')\n",
    "from ml_method import *\n",
    "from proj1_helpers import *\n",
    "\n",
    "%load_ext autoreload\n",
    "%autoreload 2"
   ]
  },
  {
   "cell_type": "markdown",
   "metadata": {},
   "source": [
    "## Used to check the accuracy"
   ]
  },
  {
   "cell_type": "code",
   "execution_count": 6,
   "metadata": {
    "scrolled": true
   },
   "outputs": [
    {
     "ename": "ValueError",
     "evalue": "shapes (246,25) and (21,) not aligned: 25 (dim 1) != 21 (dim 0)",
     "output_type": "error",
     "traceback": [
      "\u001b[1;31m---------------------------------------------------------------------------\u001b[0m",
      "\u001b[1;31mValueError\u001b[0m                                Traceback (most recent call last)",
      "\u001b[1;32m<ipython-input-6-d8a11c35c79f>\u001b[0m in \u001b[0;36m<module>\u001b[1;34m()\u001b[0m\n\u001b[0;32m     29\u001b[0m \u001b[1;31m# stand_x = np.delete(stand_x, [4,5,6,12,23,24,25,26,27,28], 1)\u001b[0m\u001b[1;33m\u001b[0m\u001b[1;33m\u001b[0m\u001b[0m\n\u001b[0;32m     30\u001b[0m \u001b[1;33m\u001b[0m\u001b[0m\n\u001b[1;32m---> 31\u001b[1;33m \u001b[0my_pred\u001b[0m \u001b[1;33m=\u001b[0m \u001b[0mpredict_labels\u001b[0m\u001b[1;33m(\u001b[0m\u001b[0mw\u001b[0m\u001b[1;33m,\u001b[0m \u001b[0mstand_x\u001b[0m\u001b[1;33m)\u001b[0m\u001b[1;33m\u001b[0m\u001b[0m\n\u001b[0m\u001b[0;32m     32\u001b[0m \u001b[1;33m\u001b[0m\u001b[0m\n\u001b[0;32m     33\u001b[0m \u001b[0mcreate_csv_submission\u001b[0m\u001b[1;33m(\u001b[0m\u001b[0mind\u001b[0m\u001b[1;33m,\u001b[0m \u001b[0my_pred\u001b[0m\u001b[1;33m,\u001b[0m \u001b[1;34m'prediction.csv'\u001b[0m\u001b[1;33m)\u001b[0m\u001b[1;33m\u001b[0m\u001b[0m\n",
      "\u001b[1;32mD:\\Dropbox\\EPFL\\course\\ML_2017\\projects\\IST-ML-Project1\\scripts\\proj1_helpers.py\u001b[0m in \u001b[0;36mpredict_labels\u001b[1;34m(weights, data)\u001b[0m\n\u001b[0;32m     32\u001b[0m     \u001b[1;34m\"\"\"Generates class predictions given weights, and a test data matrix\"\"\"\u001b[0m\u001b[1;33m\u001b[0m\u001b[0m\n\u001b[0;32m     33\u001b[0m     \u001b[1;31m# y_pred = np.dot(data, weights)\u001b[0m\u001b[1;33m\u001b[0m\u001b[1;33m\u001b[0m\u001b[0m\n\u001b[1;32m---> 34\u001b[1;33m     \u001b[0my_pred\u001b[0m \u001b[1;33m=\u001b[0m \u001b[0msigmoid\u001b[0m\u001b[1;33m(\u001b[0m\u001b[0mdata\u001b[0m\u001b[1;33m,\u001b[0m \u001b[0mweights\u001b[0m\u001b[1;33m.\u001b[0m\u001b[0mT\u001b[0m\u001b[1;33m)\u001b[0m\u001b[1;33m\u001b[0m\u001b[0m\n\u001b[0m\u001b[0;32m     35\u001b[0m     \u001b[0my_pred\u001b[0m\u001b[1;33m[\u001b[0m\u001b[0mnp\u001b[0m\u001b[1;33m.\u001b[0m\u001b[0mwhere\u001b[0m\u001b[1;33m(\u001b[0m\u001b[0my_pred\u001b[0m \u001b[1;33m<=\u001b[0m \u001b[1;36m0.5\u001b[0m\u001b[1;33m)\u001b[0m\u001b[1;33m]\u001b[0m \u001b[1;33m=\u001b[0m \u001b[1;33m-\u001b[0m\u001b[1;36m1\u001b[0m\u001b[1;33m\u001b[0m\u001b[0m\n\u001b[0;32m     36\u001b[0m     \u001b[0my_pred\u001b[0m\u001b[1;33m[\u001b[0m\u001b[0mnp\u001b[0m\u001b[1;33m.\u001b[0m\u001b[0mwhere\u001b[0m\u001b[1;33m(\u001b[0m\u001b[0my_pred\u001b[0m \u001b[1;33m>\u001b[0m \u001b[1;36m0.5\u001b[0m\u001b[1;33m)\u001b[0m\u001b[1;33m]\u001b[0m \u001b[1;33m=\u001b[0m \u001b[1;36m1\u001b[0m\u001b[1;33m\u001b[0m\u001b[0m\n",
      "\u001b[1;32mD:\\Dropbox\\EPFL\\course\\ML_2017\\projects\\IST-ML-Project1\\scripts\\proj1_helpers.py\u001b[0m in \u001b[0;36msigmoid\u001b[1;34m(tx, w)\u001b[0m\n\u001b[0;32m     26\u001b[0m \u001b[1;32mdef\u001b[0m \u001b[0msigmoid\u001b[0m\u001b[1;33m(\u001b[0m\u001b[0mtx\u001b[0m\u001b[1;33m,\u001b[0m \u001b[0mw\u001b[0m\u001b[1;33m)\u001b[0m\u001b[1;33m:\u001b[0m\u001b[1;33m\u001b[0m\u001b[0m\n\u001b[0;32m     27\u001b[0m \u001b[1;31m#     ans = np.array(len(w))\u001b[0m\u001b[1;33m\u001b[0m\u001b[1;33m\u001b[0m\u001b[0m\n\u001b[1;32m---> 28\u001b[1;33m     \u001b[0mexpz\u001b[0m \u001b[1;33m=\u001b[0m \u001b[0mnp\u001b[0m\u001b[1;33m.\u001b[0m\u001b[0mexp\u001b[0m\u001b[1;33m(\u001b[0m\u001b[0mtx\u001b[0m\u001b[1;33m.\u001b[0m\u001b[0mdot\u001b[0m\u001b[1;33m(\u001b[0m\u001b[0mw\u001b[0m\u001b[1;33m)\u001b[0m\u001b[1;33m)\u001b[0m\u001b[1;33m\u001b[0m\u001b[0m\n\u001b[0m\u001b[0;32m     29\u001b[0m     \u001b[1;32mreturn\u001b[0m \u001b[0mexpz\u001b[0m \u001b[1;33m/\u001b[0m \u001b[1;33m(\u001b[0m\u001b[1;36m1\u001b[0m \u001b[1;33m+\u001b[0m \u001b[0mexpz\u001b[0m\u001b[1;33m)\u001b[0m\u001b[1;33m\u001b[0m\u001b[0m\n\u001b[0;32m     30\u001b[0m \u001b[1;33m\u001b[0m\u001b[0m\n",
      "\u001b[1;31mValueError\u001b[0m: shapes (246,25) and (21,) not aligned: 25 (dim 1) != 21 (dim 0)"
     ]
    }
   ],
   "source": [
    "y, x, ind = load_csv_data('verify.csv')\n",
    "\n",
    "mask = (x != -999)\n",
    "\n",
    "w = np.array([ 1.75815226e-01,  -2.71859587e-01,   5.64233606e-01,\n",
    "         -7.61631793e-03,  -5.90937217e-01,  -2.94559751e-01,\n",
    "          3.17968545e-01,  -6.59083445e-02,   4.11845940e-03,\n",
    "          1.35124053e-02,   5.22805311e-01,   4.98332439e-01,\n",
    "         -8.87872554e-03,   6.53442720e-01,  -8.71039998e-01,\n",
    "          5.49099703e-01,  -1.30072281e+00,  -1.20590897e+00,\n",
    "          4.43600235e-01,  -1.04761735e-01,   1.15319875e-06])\n",
    "# compute the mean and standard deviations\n",
    "mean = (x * mask).sum(axis=0)/np.sum(mask, axis=0)\n",
    "std_dev = np.sqrt((((x - mean) * mask)**2).sum(axis=0)/np.sum(mask, axis=0))\n",
    "\n",
    "# normalize the data\n",
    "stand_x = (x * mask - mean)/std_dev\n",
    "\n",
    "# set -999 to 0\n",
    "stand_x[~mask] = 0\n",
    "\n",
    "# stand_x = np.delete(stand_x, [11,12,15,18,20,22,25,26,28], 1)\n",
    "\n",
    "pca = PCA(n_components = 25)\n",
    "stand_x = pca.fit_transform(stand_x)\n",
    "# stand_x.shape\n",
    "\n",
    "# stand_x = np.delete(stand_x, [14, 15, 17, 18, 20, 24, 25, 28], 1)\n",
    "# stand_x = np.delete(stand_x, [4,5,6,12,23,24,25,26,27,28], 1)\n",
    "\n",
    "y_pred = predict_labels(w, stand_x)\n",
    "\n",
    "create_csv_submission(ind, y_pred, 'prediction.csv')\n",
    "# ws.shape\n",
    "\n",
    "frame = pd.read_csv('verify.csv')\n",
    "frame = frame[['Id', 'Prediction']]\n",
    "frame['Prediction1'] = pd.Series(y_pred)\n",
    "frame.Prediction = frame.Prediction.apply(lambda x: -1.0 if x == 'b' else 1.0)\n",
    "frame['Hit'] = [1 if x == y else 0 for x,y in zip(frame.Prediction, frame.Prediction1)]\n",
    "sum(frame.Hit)/len(frame)"
   ]
  },
  {
   "cell_type": "code",
   "execution_count": 8,
   "metadata": {},
   "outputs": [],
   "source": [
    "from sklearn.model_selection import train_test_split\n",
    "from sklearn import datasets\n",
    "from sklearn import svm\n",
    "\n",
    "clf = svm.SVC(C=1, cache_size=200, class_weight=None, coef0=0.0,\n",
    "  decision_function_shape=None, degree=3, gamma='auto', kernel='poly',\n",
    "  max_iter=-1, probability=False, random_state=None, shrinking=True,\n",
    "  tol=0.001, verbose=False)"
   ]
  },
  {
   "cell_type": "markdown",
   "metadata": {},
   "source": [
    "## generate data for submission"
   ]
  },
  {
   "cell_type": "code",
   "execution_count": 59,
   "metadata": {
    "collapsed": true
   },
   "outputs": [],
   "source": [
    "y, x, ind = load_csv_data('higgs-data/test.csv')\n",
    "\n",
    "mask = (x != -999)\n",
    "\n",
    "w = np.array([ 0.0618007 , -0.67451767, -1.17145257,  0.3153572 , -0.07961639,\n",
    "         0.80775918,  0.08343444,  1.15862536, -0.06369184,  0.16268409,\n",
    "        -0.80057822,  0.27119628,  0.39992783,  0.6221701 , -0.00533122,\n",
    "        -0.00564285,  1.14219461,  0.00151573,  0.00519025,  0.18439471,\n",
    "        -0.00234673, -0.14334519,  0.20265211, -0.14199682,  0.00344027,\n",
    "        -0.00235626, -0.28977502,  0.00877695, -0.00408017, -0.20828267])\n",
    "# compute the mean and standard deviations\n",
    "mean = (x * mask).sum(axis=0)/np.sum(mask, axis=0)\n",
    "std_dev = np.sqrt((((x - mean) * mask)**2).sum(axis=0)/np.sum(mask, axis=0))\n",
    "\n",
    "# normalize the data\n",
    "stand_x = (x * mask - mean)/std_dev\n",
    "\n",
    "# set -999 to 0\n",
    "stand_x[~mask] = 0\n",
    "\n",
    "# stand_x = np.delete(stand_x, [14, 15, 17, 18, 20, 24, 25, 28], 1)\n",
    "# stand_x = np.delete(stand_x, [4,5,6,12,23,24,25,26,27,28], 1)\n",
    "\n",
    "y_pred = predict_labels(w, stand_x)\n",
    "\n",
    "create_csv_submission(ind, y_pred, 'prediction.csv')"
   ]
  },
  {
   "cell_type": "markdown",
   "metadata": {},
   "source": [
    "## use panda to load the train data"
   ]
  },
  {
   "cell_type": "code",
   "execution_count": 41,
   "metadata": {
    "scrolled": true
   },
   "outputs": [
    {
     "data": {
      "text/plain": [
       "b    164333\n",
       "s     85667\n",
       "Name: Prediction, dtype: int64"
      ]
     },
     "execution_count": 41,
     "metadata": {},
     "output_type": "execute_result"
    }
   ],
   "source": [
    "\n",
    "frame = pd.read_csv('higgs-data/train.csv')\n",
    "# mean_s = frame.DER_mass_MMC[(frame.Prediction == 's') & (frame.DER_mass_MMC != -999)].mean()\n",
    "# mean_b = frame.DER_mass_MMC[(frame.Prediction == 'b') & (frame.DER_mass_MMC != -999)].mean()\n",
    "# print(mean_s, mean_b)\n",
    "\n",
    "frame.Prediction.value_counts()"
   ]
  },
  {
   "cell_type": "markdown",
   "metadata": {},
   "source": [
    "## Generate the dataset with equal case"
   ]
  },
  {
   "cell_type": "code",
   "execution_count": 54,
   "metadata": {
    "collapsed": true
   },
   "outputs": [],
   "source": [
    "frame1 = frame[frame.Prediction == 's']\n",
    "frame2 = frame[frame.Prediction == 'b']\n",
    "# len(frame1)\n",
    "\n",
    "frame2 = frame2[0:len(frame1)]\n",
    "frame3 = pd.concat([frame1, frame2])\n",
    "frame3.to_csv('train1.csv')"
   ]
  },
  {
   "cell_type": "code",
   "execution_count": 23,
   "metadata": {},
   "outputs": [
    {
     "name": "stdout",
     "output_type": "stream",
     "text": [
      "259637\n",
      "-308601\n",
      "283388\n",
      "-284850\n"
     ]
    }
   ],
   "source": [
    "frame = pd.read_csv('prediction.csv')\n",
    "frame1 = pd.read_csv('prediction1.csv')\n",
    "# frame.Prediction[frame.Prediction == -1].sum()\n",
    "print(frame.Prediction[frame.Prediction == 1].sum())\n",
    "print(frame.Prediction[frame.Prediction == -1].sum())\n",
    "print(frame1.Prediction[frame1.Prediction == 1].sum())\n",
    "print(frame1.Prediction[frame1.Prediction == -1].sum())\n",
    "\n",
    "# frame\n"
   ]
  },
  {
   "cell_type": "code",
   "execution_count": 24,
   "metadata": {},
   "outputs": [
    {
     "data": {
      "text/plain": [
       "0.33117637328021005"
      ]
     },
     "execution_count": 24,
     "metadata": {},
     "output_type": "execute_result"
    }
   ],
   "source": [
    "frame = pd.read_csv('prediction.csv')\n",
    "frame1 = pd.read_csv('prediction1.csv')\n",
    "\n",
    "frame['Hit'] = [1 if x == y else 0 for x,y in zip(frame.Prediction, frame1.Prediction)]\n",
    "sum(frame.Hit)/len(frame)"
   ]
  },
  {
   "cell_type": "code",
   "execution_count": 27,
   "metadata": {},
   "outputs": [
    {
     "name": "stdout",
     "output_type": "stream",
     "text": [
      "[[  5.77350269e-01   7.81476825e-01   2.39086184e-16]\n",
      " [  5.77350269e-01  -5.95605390e-01  -7.07106781e-01]\n",
      " [  5.77350269e-01  -1.85871435e-01   7.07106781e-01]]\n",
      "[  5.00000000e+00  -1.50192728e-16   1.23259516e-32]\n",
      "[[  1.00000000e+00   3.58953035e-16]\n",
      " [ -3.58953035e-16   1.00000000e+00]]\n",
      "[  5.00000000e+00   1.44624499e-31]\n",
      "[[ 0.94403936 -0.13211848]\n",
      " [-0.13211848  1.18807911]]\n"
     ]
    }
   ],
   "source": [
    "x = np.array([i+1 for i in range(12)]).reshape([3,4])\n",
    "cov_mat = np.cov([x[0,:],x[1,:],x[2,:]])\n",
    "\n",
    "\n",
    "eig_val, eig_vec = np.linalg.eig(cov_mat)\n",
    "eig_val\n",
    "\n",
    "print(eig_vec)\n",
    "print(eig_val)\n",
    "# eig_vec@np.diag(eig_val)@eig_vec.T\n",
    "\n",
    "eig_vec1 = eig_vec[:,0:2]\n",
    "\n",
    "x1 = eig_vec1.T@x\n",
    "cov_mat1 = np.cov(x1)\n",
    "eig_val1, eig_vec1 = np.linalg.eig(cov_mat1)\n",
    "print(eig_vec1)\n",
    "print(eig_val1)\n",
    "print(eig_vec[0:2]@eig_vec[0:2].T)"
   ]
  }
 ],
 "metadata": {
  "kernelspec": {
   "display_name": "Python 3",
   "language": "python",
   "name": "python3"
  },
  "language_info": {
   "codemirror_mode": {
    "name": "ipython",
    "version": 3
   },
   "file_extension": ".py",
   "mimetype": "text/x-python",
   "name": "python",
   "nbconvert_exporter": "python",
   "pygments_lexer": "ipython3",
   "version": "3.6.1"
  }
 },
 "nbformat": 4,
 "nbformat_minor": 2
}
