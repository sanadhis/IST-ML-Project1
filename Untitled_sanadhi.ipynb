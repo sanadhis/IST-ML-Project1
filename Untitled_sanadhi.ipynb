{
 "cells": [
  {
   "cell_type": "code",
   "execution_count": 1,
   "metadata": {},
   "outputs": [],
   "source": [
    "from scripts.proj1_helpers import *\n",
    "from scripts.stochastic_gradient_descent import *\n",
    "from scripts.split_data import *\n",
    "from scripts.least_squares import *\n",
    "from scripts.costs import *"
   ]
  },
  {
   "cell_type": "code",
   "execution_count": 2,
   "metadata": {},
   "outputs": [],
   "source": [
    "y_tr, x_tr, _ = load_csv_data('higgs-data/train.csv')\n",
    "y_te, x_te, y_ids = load_csv_data('higgs-data/test.csv')"
   ]
  },
  {
   "cell_type": "code",
   "execution_count": null,
   "metadata": {},
   "outputs": [],
   "source": [
    "# \n",
    "mask = (x_tr != -999)\n",
    "\n",
    "# compute the mean and standard deviations\n",
    "mean = (x_tr * mask).sum(axis=0)/np.sum(mask, axis=0)\n",
    "std_dev = np.sqrt(np.sum(((x_tr - mean)*mask)**2, axis=0)/np.sum(mask, axis=0))\n",
    "\n",
    "# standardize\n",
    "x_tr_stand = (x_tr - mean) / std_dev * mask\n",
    "\n",
    "# set -999 to zero\n",
    "x_tr_stand = x_tr * mask\n"
   ]
  },
  {
   "cell_type": "code",
   "execution_count": null,
   "metadata": {},
   "outputs": [],
   "source": [
    "print(np.shape(x_tr_stand))\n",
    "x = (x_tr_stand - np.min(x_tr_stand,axis=0)) / (np.max(x_tr_stand,axis=0) - np.min(x_tr_stand,axis=0))\n",
    "print(x)"
   ]
  },
  {
   "cell_type": "code",
   "execution_count": null,
   "metadata": {},
   "outputs": [],
   "source": [
    "def sigmoid(t):\n",
    "    \"\"\"apply sigmoid function on t.\"\"\"\n",
    "    return np.ones((t.shape[0],t.shape[1])) / (1 + np.exp(-t))\n",
    "\n",
    "def grad_sigmoid(t):\n",
    "    \"\"\"return the gradient of sigmoid on t.\"\"\"\n",
    "    return sigmoid(t) * (1 - sigmoid(t))"
   ]
  },
  {
   "cell_type": "code",
   "execution_count": null,
   "metadata": {},
   "outputs": [],
   "source": [
    "# Back Prop code starts here\n",
    "neuron = 7\n",
    "y = y_tr.reshape(y_tr.shape[0],1)\n",
    "w_1 = np.random.rand(x.shape[1],neuron) - (0.5)\n",
    "w_2 = np.random.rand(neuron,1) - (0.5)\n"
   ]
  },
  {
   "cell_type": "code",
   "execution_count": null,
   "metadata": {},
   "outputs": [],
   "source": [
    "def feed_forward(x,w_1,w_2):\n",
    "    # calculate w_1_output\n",
    "    x_0 = x\n",
    "    z_1 = x_0.dot(w_1)\n",
    "    x_1 = sigmoid(z_1)\n",
    "    z_2 = x_1.dot(w_2)\n",
    "    y_hat = sigmoid(z_2)\n",
    "    return z_1,z_2,y_hat\n",
    "    \n",
    "z_1,z_2,y_hat = feed_forward(x,w_1,w_2)\n",
    "print(np.min(y_hat))"
   ]
  },
  {
   "cell_type": "markdown",
   "metadata": {},
   "source": [
    "# Epic Backpropagation Here"
   ]
  },
  {
   "cell_type": "code",
   "execution_count": null,
   "metadata": {},
   "outputs": [],
   "source": [
    "def backpropagation(x,y,w_1,w_2):\n",
    "    z_1,z_2,y_hat = feed_forward(x,w_1,w_2)\n",
    "    x_1 = sigmoid(z_1)\n",
    "    delta_2 = (y_hat - y) * grad_sigmoid(z_2)\n",
    "    delta_w_2 = np.transpose(x_1).dot(delta_2)\n",
    "    delta_1 = delta_2.dot(np.transpose(w_2)) * grad_sigmoid(z_1)\n",
    "    delta_w_1 = np.transpose(x).dot(delta_1)\n",
    "    \n",
    "    return delta_w_2+w_2, delta_w_1+w_1\n",
    "\n",
    "w2 = w_2\n",
    "w1 = w_1\n",
    "for i in range(100):\n",
    "    w2,w1 = backpropagation(x,y,w1,w2)\n",
    "z_1,z_2,y_hat = feed_forward(x,w1,w2)\n",
    "print(y_hat)"
   ]
  },
  {
   "cell_type": "markdown",
   "metadata": {},
   "source": [
    "# Classify"
   ]
  },
  {
   "cell_type": "code",
   "execution_count": null,
   "metadata": {},
   "outputs": [],
   "source": [
    "# predict labels\n",
    "y_pred = predict_labels(weight, x_te)"
   ]
  },
  {
   "cell_type": "code",
   "execution_count": null,
   "metadata": {},
   "outputs": [],
   "source": [
    "create_csv_submission(y_ids, y_pred, 'try.csv')"
   ]
  },
  {
   "cell_type": "markdown",
   "metadata": {},
   "source": [
    "# LVQ"
   ]
  },
  {
   "cell_type": "code",
   "execution_count": 4,
   "metadata": {},
   "outputs": [
    {
     "data": {
      "text/plain": [
       "array([[  1.05457000e+02,   6.05260000e+01,   7.58390000e+01,\n",
       "          3.97570000e+01,  -0.00000000e+00,  -0.00000000e+00,\n",
       "         -0.00000000e+00,   2.39000000e+00,   2.21830000e+01,\n",
       "          1.20462000e+02,   1.20200000e+00,   5.29000000e-01,\n",
       "         -0.00000000e+00,   3.56360000e+01,  -2.66000000e-01,\n",
       "         -3.13200000e+00,   4.28340000e+01,   3.81000000e-01,\n",
       "          8.51000000e-01,   2.34190000e+01,  -2.89000000e+00,\n",
       "          1.98907000e+02,   1.00000000e+00,   4.19920000e+01,\n",
       "          1.80000000e+00,  -1.66000000e-01,  -0.00000000e+00,\n",
       "         -0.00000000e+00,  -0.00000000e+00,   4.19920000e+01],\n",
       "       [ -0.00000000e+00,   9.13160000e+01,   5.17710000e+01,\n",
       "          3.37420000e+01,  -0.00000000e+00,  -0.00000000e+00,\n",
       "         -0.00000000e+00,   1.30900000e+00,   8.76000000e-01,\n",
       "          1.12809000e+02,   1.71800000e+00,  -1.31800000e+00,\n",
       "         -0.00000000e+00,   2.92670000e+01,  -1.34600000e+00,\n",
       "         -3.33000000e-01,   5.02920000e+01,  -2.44300000e+00,\n",
       "         -1.04600000e+00,   4.41560000e+01,   2.59500000e+00,\n",
       "          1.57431000e+02,   1.00000000e+00,   3.32500000e+01,\n",
       "         -3.19900000e+00,   2.05700000e+00,  -0.00000000e+00,\n",
       "         -0.00000000e+00,  -0.00000000e+00,   3.32500000e+01]])"
      ]
     },
     "execution_count": 4,
     "metadata": {},
     "output_type": "execute_result"
    }
   ],
   "source": [
    "# \n",
    "mask = (x_tr != -999)\n",
    "\n",
    "# compute the mean and standard deviations\n",
    "mean = (x_tr * mask).sum(axis=0)/np.sum(mask, axis=0)\n",
    "std_dev = np.sqrt(np.sum(((x_tr - mean)*mask)**2, axis=0)/np.sum(mask, axis=0))\n",
    "\n",
    "# standardize\n",
    "x_tr_stand = (x_tr - mean) / std_dev * mask\n",
    "\n",
    "# set -999 to zero\n",
    "x_tr_stand = x_tr * mask\n",
    "\n",
    "#x = (x_tr_stand - np.min(x_tr_stand,axis=0)) / (np.max(x_tr_stand,axis=0) - np.min(x_tr_stand,axis=0))\n",
    "\n",
    "y = y_tr.reshape(y_tr.shape[0],1)\n",
    "w = [y[y.shape[0]-3],y[y.shape[0]-1]]\n",
    "x = x_tr_stand\n",
    "w = np.array([x[x.shape[0]-3],x[x.shape[0-1]]])\n",
    "w"
   ]
  },
  {
   "cell_type": "code",
   "execution_count": 5,
   "metadata": {},
   "outputs": [],
   "source": [
    "mask = (x_te != -999)\n",
    "\n",
    "# compute the mean and standard deviations\n",
    "mean = (x_te * mask).sum(axis=0)/np.sum(mask, axis=0)\n",
    "std_dev = np.sqrt(np.sum(((x_te - mean)*mask)**2, axis=0)/np.sum(mask, axis=0))\n",
    "\n",
    "# standardize\n",
    "x_te_stand = (x_te - mean) / std_dev * mask\n",
    "\n",
    "# set -999 to zero\n",
    "x_te_stand = x_te * mask\n",
    "#xte = (x_te_stand - np.min(x_te_stand,axis=0)) / (np.max(x_te_stand,axis=0) - np.min(x_te_stand,axis=0))"
   ]
  },
  {
   "cell_type": "code",
   "execution_count": 18,
   "metadata": {},
   "outputs": [
    {
     "data": {
      "text/plain": [
       "array([[  3.14678664e+14,   4.70576734e+14,   3.67526865e+14,\n",
       "         -2.30968837e+14,  -9.03529671e+12,  -2.25430466e+15,\n",
       "          2.37031842e+13,   3.97583501e+12,   9.63572023e+13,\n",
       "          1.55939887e+14,   1.55524584e+13,  -2.01456451e+13,\n",
       "         -2.06388462e+12,  -2.38193074e+14,   3.55917663e+12,\n",
       "          3.98519926e+13,   2.10852000e+14,  -4.63963224e+12,\n",
       "         -1.07404755e+13,   9.93238683e+13,   3.57223028e+13,\n",
       "          6.04286687e+13,  -9.02573547e+11,  -1.65479527e+14,\n",
       "         -2.29031832e+13,   2.02398023e+12,   1.46866677e+14,\n",
       "         -6.28813586e+10,   2.92490153e+11,   1.83280786e+14],\n",
       "       [ -5.93420288e+16,   4.50756957e+16,  -4.02065238e+16,\n",
       "          4.29996641e+16,  -2.16721206e+14,  -1.40066867e+16,\n",
       "         -1.61912815e+14,  -2.35352911e+15,  -3.44984719e+16,\n",
       "          1.01903378e+17,   6.58026949e+14,  -5.59486627e+14,\n",
       "         -3.99007992e+13,   4.42947442e+15,  -4.26008850e+15,\n",
       "         -1.12796619e+15,   3.42815726e+16,  -7.69782895e+15,\n",
       "         -3.49553287e+15,  -7.53752034e+15,   8.49609737e+15,\n",
       "          1.23253851e+17,   2.28268152e+15,   6.94076291e+16,\n",
       "         -1.03413732e+16,   6.64921806e+15,  -5.44647592e+15,\n",
       "          6.62532426e+12,   1.73247828e+12,   6.31923175e+16]])"
      ]
     },
     "execution_count": 18,
     "metadata": {},
     "output_type": "execute_result"
    }
   ],
   "source": [
    "from scipy.spatial.distance import cdist\n",
    "\n",
    "def lvq(w,x,y,alpha):\n",
    "    d = cdist(x,w)\n",
    "    minimum = np.argmin(d, axis=1)\n",
    "    minimum = minimum.reshape(minimum.shape[0],1)\n",
    "    mask = (minimum == y)\n",
    "    mask_inv = (minimum != y)\n",
    "    \n",
    "    W = np.ones((minimum.shape[0],w.shape[1]))\n",
    "    for i in range(W.shape[0]):\n",
    "        W[i] = w[minimum[i]]\n",
    "    \n",
    "    # for match\n",
    "    adj = alpha*(x - W)\n",
    "    #print(adj)\n",
    "    for i in range(mask.shape[0]):\n",
    "        if (mask[i]):\n",
    "            w[minimum[i]] += adj[i]\n",
    "        else:\n",
    "            w[minimum[i]] -= adj[i]\n",
    "    return w;\n",
    "\n",
    "w = [y[y.shape[0]-3],y[y.shape[0]-1]]\n",
    "w = np.array([x[x.shape[0]-3],x[x.shape[0-1]]])\n",
    "alpha = 0.1\n",
    "for i in range(100):\n",
    "    w = lvq(w,x,y,alpha)\n",
    "    alpha = alpha*0.5\n",
    "w"
   ]
  },
  {
   "cell_type": "code",
   "execution_count": 17,
   "metadata": {},
   "outputs": [
    {
     "name": "stdout",
     "output_type": "stream",
     "text": [
      "164333\n",
      "85667.0\n"
     ]
    }
   ],
   "source": [
    "# Feedforward:\n",
    "d = cdist(x,w)\n",
    "result = np.argmin(d, axis=1)\n",
    "print(np.sum(result == y.reshape(y.shape[0])))\n",
    "print(np.sum(y.reshape(y.shape[0])))"
   ]
  },
  {
   "cell_type": "code",
   "execution_count": null,
   "metadata": {},
   "outputs": [],
   "source": []
  }
 ],
 "metadata": {
  "kernelspec": {
   "display_name": "Python [default]",
   "language": "python",
   "name": "python3"
  },
  "language_info": {
   "codemirror_mode": {
    "name": "ipython",
    "version": 3
   },
   "file_extension": ".py",
   "mimetype": "text/x-python",
   "name": "python",
   "nbconvert_exporter": "python",
   "pygments_lexer": "ipython3",
   "version": "3.6.1"
  }
 },
 "nbformat": 4,
 "nbformat_minor": 2
}
