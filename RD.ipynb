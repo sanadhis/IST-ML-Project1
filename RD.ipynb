{
 "cells": [
  {
   "cell_type": "markdown",
   "metadata": {},
   "source": [
    "## import libraries"
   ]
  },
  {
   "cell_type": "code",
   "execution_count": 6,
   "metadata": {},
   "outputs": [
    {
     "name": "stdout",
     "output_type": "stream",
     "text": [
      "The autoreload extension is already loaded. To reload it, use:\n",
      "  %reload_ext autoreload\n"
     ]
    }
   ],
   "source": [
    "%matplotlib inline\n",
    "import numpy as np\n",
    "import matplotlib.pyplot as plt\n",
    "import sys\n",
    "import pandas as pd\n",
    "import scipy as sp\n",
    "\n",
    "# sys.path.append('scripts/')\n",
    "from scripts.ml_method import *\n",
    "from scripts.proj1_helpers import *\n",
    "from scripts.preprocess import *\n",
    "from scripts.split_data import *\n",
    "from scripts.model_testing import *\n",
    "\n",
    "\n",
    "from sklearn.linear_model import LogisticRegression\n",
    "from sklearn.decomposition import PCA\n",
    "\n",
    "\n",
    "%load_ext autoreload\n",
    "%autoreload 2"
   ]
  },
  {
   "cell_type": "markdown",
   "metadata": {},
   "source": [
    "## Load data"
   ]
  },
  {
   "cell_type": "code",
   "execution_count": 159,
   "metadata": {
    "collapsed": true
   },
   "outputs": [],
   "source": [
    "y, x, ind = load_csv_data('higgs-data/train.csv')"
   ]
  },
  {
   "cell_type": "code",
   "execution_count": 160,
   "metadata": {},
   "outputs": [],
   "source": [
    "# mask = x[:,4] == -999\n",
    "\n",
    "# # mask = ((x[:,4] != -999) & (y == -1))\n",
    "# # mask1 = ((x[:,4] == -999) & (y == -1))\n",
    "# # mask2 = \n",
    "# np.random.choice(x[((x[:,4] != -999) & (y == -1)),4])\n",
    "\n",
    "miss_list = [0, 4, 5, 6, 12, 23, 24, 25, 26, 27, 28]\n",
    "resol = 10\n",
    "dis_bin_b = np.zeros([len(miss_list), resol])\n",
    "dis_bin_s = np.zeros([len(miss_list), resol])\n",
    "min_max_b = np.zeros([len(miss_list),2])\n",
    "min_max_s = np.zeros([len(miss_list),2])\n",
    "\n",
    "                      \n",
    "len_y = len(y)\n",
    "\n",
    "for ind_i, i in enumerate(miss_list):\n",
    "    # b's distribution \n",
    "    mask_b = ((x[:,i] == -999) & (y == -1))\n",
    "    mask_s = ((x[:,i] == -999) & (y == 1))\n",
    "    dis_b = x[((x[:,i] != -999) & (y == -1)),i]\n",
    "    dis_s = x[((x[:,i] != -999) & (y == 1)),i]\n",
    "    dis = x[(x[:,i] != -999),i]\n",
    "    mask = (x[:,i] == -999) & (y == -1)\n",
    "    \n",
    "    x[mask, i] = np.random.choice(dis, len(x[mask,i]))\n",
    "#     x[mask_b, i] = np.random.choice(dis_b, len(x[mask_b, i]))\n",
    "#     x[mask_s, i] = np.random.choice(dis_s, len(x[mask_s, i]))\n",
    "\n",
    "    min_max_b[ind_i, 1] = max_b = dis_b.max()\n",
    "    min_max_b[ind_i, 0] = min_b = dis_b.min()\n",
    "    min_max_s[ind_i, 1] = max_s = dis_s.max()\n",
    "    min_max_s[ind_i, 0] = min_s = dis_s.min()\n",
    "    width_b = (max_b - min_b)/resol\n",
    "    width_s = (max_s - min_s)/resol\n",
    "    \n",
    "    x_tmp = x[:, i]\n",
    "    \n",
    "    for j in range(resol):\n",
    "        dis_bin_b[ind_i][j] = len(x_tmp[(x_tmp >= (min_b + j * width_b)) & (x_tmp <= (min_b + (j+1) * width_b))])/len_y\n",
    "        dis_bin_s[ind_i][j] = len(x_tmp[(x_tmp >= (min_s + j * width_s)) & (x_tmp <= (min_s + (j+1) * width_s))])/len_y\n",
    "\n",
    "    \n",
    "# x[:,5]\n",
    "# x[:,4]"
   ]
  },
  {
   "cell_type": "markdown",
   "metadata": {},
   "source": [
    "## Clean data and normalize data"
   ]
  },
  {
   "cell_type": "code",
   "execution_count": 161,
   "metadata": {
    "collapsed": true
   },
   "outputs": [],
   "source": [
    "stand_x = standardize(x, with_ones = True)"
   ]
  },
  {
   "cell_type": "code",
   "execution_count": 140,
   "metadata": {
    "collapsed": true
   },
   "outputs": [],
   "source": [
    "stand_x = getPCA(stand_x, 25)"
   ]
  },
  {
   "cell_type": "markdown",
   "metadata": {},
   "source": [
    "## Split data"
   ]
  },
  {
   "cell_type": "code",
   "execution_count": 162,
   "metadata": {},
   "outputs": [],
   "source": [
    "x_tr, x_te, y_tr, y_te = split_data(stand_x, y, 0.8, myseed=1)"
   ]
  },
  {
   "cell_type": "markdown",
   "metadata": {},
   "source": [
    "## Training"
   ]
  },
  {
   "cell_type": "code",
   "execution_count": 163,
   "metadata": {
    "scrolled": false
   },
   "outputs": [
    {
     "data": {
      "text/plain": [
       "0.74741999999999997"
      ]
     },
     "execution_count": 163,
     "metadata": {},
     "output_type": "execute_result"
    }
   ],
   "source": [
    "losses, w = logistic_regression(y_tr, x_tr , np.zeros(stand_x.shape[1]),300, 0.000005)\n",
    "\n",
    "y_pred = predict_labels(w, x_te)\n",
    "\n",
    "np.mean(y_pred == y_te)"
   ]
  },
  {
   "cell_type": "markdown",
   "metadata": {},
   "source": [
    "## Cross validation"
   ]
  },
  {
   "cell_type": "code",
   "execution_count": 164,
   "metadata": {},
   "outputs": [
    {
     "data": {
      "text/plain": [
       "0.93333777777777782"
      ]
     },
     "execution_count": 164,
     "metadata": {},
     "output_type": "execute_result"
    }
   ],
   "source": [
    "from sklearn.model_selection import train_test_split\n",
    "from sklearn import datasets\n",
    "from sklearn import svm\n",
    "\n",
    "x_tr, x_te, y_tr, y_te = train_test_split(stand_x, y, test_size = 0.9, random_state = 0)\n",
    "\n",
    "# x_tr.shape\n",
    "# y_tr.shape\n",
    "\n",
    "clf = svm.SVC(kernel='rbf', C=1).fit(x_tr, y_tr)\n",
    "clf.score(x_te, y_te)\n",
    "# --------- Split the data into 5 parts -----------"
   ]
  },
  {
   "cell_type": "code",
   "execution_count": null,
   "metadata": {
    "collapsed": true
   },
   "outputs": [],
   "source": [
    "clf1 = clf"
   ]
  },
  {
   "cell_type": "code",
   "execution_count": null,
   "metadata": {
    "collapsed": true
   },
   "outputs": [],
   "source": [
    "def getIndex(value, ind):\n",
    "    # for finding b's index\n",
    "    ind_b = ind_s = 0\n",
    "    \n",
    "    if value < min_max_b[ind, 0]:\n",
    "        ind_b = 0\n",
    "    else:\n",
    "        min(resol - 1, np.floor((value - min_max_b[ind, 0])/resol).astype(int))\n",
    "    \n",
    "    if value < min_max_s[ind, 0]:\n",
    "        ind_s = 0\n",
    "    else:\n",
    "        min(resol - 1, np.floor((value - min_max_s[ind, 0])/resol).astype(int))\n",
    "        \n",
    "#     if dis_bin_b[ind, ind_b] > dis_bin_s[ind, ind_s]:\n",
    "#         return "
   ]
  },
  {
   "cell_type": "code",
   "execution_count": 126,
   "metadata": {},
   "outputs": [
    {
     "data": {
      "text/plain": [
       "2"
      ]
     },
     "execution_count": 126,
     "metadata": {},
     "output_type": "execute_result"
    }
   ],
   "source": [
    "min(3,2)"
   ]
  },
  {
   "cell_type": "code",
   "execution_count": 154,
   "metadata": {},
   "outputs": [],
   "source": [
    "y1, x1, ind = load_csv_data('higgs-data/test.csv')\n",
    "\n",
    "miss_list = [0, 4, 5, 6, 12, 23, 24, 25, 26, 27, 28]\n",
    "\n",
    "for ind_i, i in enumerate(miss_list):\n",
    "    # b's distribution \n",
    "    mask = ((x1[:,i] == -999))\n",
    "    dis_b = x[((x[:,i] != -999) & (y == -1)),i]\n",
    "    x1[mask, i] = np.random.choice(dis_b, len(x1[mask, i]))\n",
    "\n",
    "stand_x = standardize(x1, with_ones = True)\n"
   ]
  },
  {
   "cell_type": "code",
   "execution_count": 155,
   "metadata": {},
   "outputs": [],
   "source": [
    "k = clf.predict(stand_x)"
   ]
  },
  {
   "cell_type": "code",
   "execution_count": 156,
   "metadata": {
    "collapsed": true
   },
   "outputs": [],
   "source": [
    "create_csv_submission(ind, k, 'prediction.csv')"
   ]
  },
  {
   "cell_type": "code",
   "execution_count": 157,
   "metadata": {},
   "outputs": [
    {
     "data": {
      "text/plain": [
       "-405334.0"
      ]
     },
     "execution_count": 157,
     "metadata": {},
     "output_type": "execute_result"
    }
   ],
   "source": [
    "k.sum()"
   ]
  },
  {
   "cell_type": "code",
   "execution_count": null,
   "metadata": {
    "collapsed": true,
    "scrolled": true
   },
   "outputs": [],
   "source": [
    "x1 = stand_x.copy()\n",
    "for i in range(10,30):\n",
    "    stand_x = x1\n",
    "    mask = stand_x == -999\n",
    "    stand_x[mask] = 0\n",
    "\n",
    "    pca = PCA(n_components = i)\n",
    "    stand_x = pca.fit_transform(stand_x)\n",
    "    stand_x.shape\n",
    "    \n",
    "    # instantiate a logistic regression model, and fit with X and y\n",
    "    model = LogisticRegression()\n",
    "    model = model.fit(stand_x, y)\n",
    "\n",
    "    # check the accuracy on the training set\n",
    "    print(i,\",\",model.score(stand_x, y))"
   ]
  }
 ],
 "metadata": {
  "kernelspec": {
   "display_name": "Python 3",
   "language": "python",
   "name": "python3"
  },
  "language_info": {
   "codemirror_mode": {
    "name": "ipython",
    "version": 3
   },
   "file_extension": ".py",
   "mimetype": "text/x-python",
   "name": "python",
   "nbconvert_exporter": "python",
   "pygments_lexer": "ipython3",
   "version": "3.6.1"
  }
 },
 "nbformat": 4,
 "nbformat_minor": 2
}
