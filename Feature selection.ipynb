{
 "cells": [
  {
   "cell_type": "markdown",
   "metadata": {},
   "source": [
    "## Import libraries"
   ]
  },
  {
   "cell_type": "code",
   "execution_count": 1,
   "metadata": {
    "collapsed": true,
    "scrolled": true
   },
   "outputs": [],
   "source": [
    "## import libraries%matplotlib inline\n",
    "import numpy as np\n",
    "import matplotlib.pyplot as plt\n",
    "import sys\n",
    "import pandas as pd\n",
    "import scipy as sp\n",
    "from sklearn.decomposition import PCA\n",
    "from sklearn.linear_model import LogisticRegression\n",
    "from sklearn.linear_model import LogisticRegressionCV\n",
    "sys.path.append('scripts/')\n",
    "from ml_method import *\n",
    "from proj1_helpers import *\n",
    "\n",
    "from scripts.preprocess import *\n",
    "\n",
    "%load_ext autoreload\n",
    "%autoreload 2"
   ]
  },
  {
   "cell_type": "markdown",
   "metadata": {},
   "source": [
    "## Load data"
   ]
  },
  {
   "cell_type": "code",
   "execution_count": 8,
   "metadata": {
    "collapsed": true
   },
   "outputs": [],
   "source": [
    "y, x, ind = load_csv_data('higgs-data/train.csv')"
   ]
  },
  {
   "cell_type": "markdown",
   "metadata": {},
   "source": [
    "## Clean data and normalize data"
   ]
  },
  {
   "cell_type": "code",
   "execution_count": 9,
   "metadata": {
    "collapsed": true
   },
   "outputs": [],
   "source": [
    "mask = (x != -999)\n",
    "\n",
    "\n",
    "# compute the mean and standard deviations\n",
    "mean = (x * mask).sum(axis=0)/np.sum(mask, axis=0)\n",
    "std_dev = np.sqrt((((x - mean) * mask)**2).sum(axis=0)/np.sum(mask, axis=0))\n",
    "\n",
    "# normalize the data\n",
    "stand_x = (x * mask - mean)/std_dev\n",
    "\n",
    "# ------- standarization finish ------------\n",
    "\n",
    "\n",
    "# set -999 to 0\n",
    "stand_x[~mask] = 0\n",
    "\n",
    "# --------- Setting -999 to 0 --------------\n",
    "\n",
    "\n",
    "tmp = np.ones([stand_x.shape[0], stand_x.shape[1] + 1])\n",
    "tmp[:,1:] = stand_x\n",
    "stand_x = tmp\n",
    "\n",
    "# ---------- add 1 to x  finish ---------------"
   ]
  },
  {
   "cell_type": "markdown",
   "metadata": {},
   "source": [
    "## Define the method to use"
   ]
  },
  {
   "cell_type": "code",
   "execution_count": 10,
   "metadata": {
    "collapsed": true
   },
   "outputs": [],
   "source": [
    "def logistic(x, y, ratio):\n",
    "    \n",
    "    score = 0\n",
    "    for i in range(5):\n",
    "        index = np.array(range(x.shape[0]))\n",
    "        np.random.shuffle(index)\n",
    "\n",
    "        x = x[index]\n",
    "        y = y[index]\n",
    "        num = np.round(x.shape[0] * ratio).astype(np.int)\n",
    "\n",
    "        # instantiate a logistic regression model, and fit with X and y\n",
    "        model = LogisticRegression()\n",
    "        model = model.fit(x[0:num], y[0:num])\n",
    "\n",
    "        score += model.score(x[num:], y[num:])\n",
    "    return score/5\n"
   ]
  },
  {
   "cell_type": "markdown",
   "metadata": {},
   "source": [
    "## Feature selection"
   ]
  },
  {
   "cell_type": "code",
   "execution_count": 9,
   "metadata": {
    "scrolled": false
   },
   "outputs": [
    {
     "name": "stdout",
     "output_type": "stream",
     "text": [
      "number:  0 , score:  0.749853333333\n",
      "number:  1 , score:  0.750258666667\n",
      "number:  2 , score:  0.731717333333\n",
      "number:  3 , score:  0.741512\n",
      "number:  4 , score:  0.747224\n",
      "number:  5 , score:  0.751002666667\n",
      "number:  6 , score:  0.74992\n",
      "number:  7 , score:  0.750650666667\n",
      "number:  8 , score:  0.734261333333\n",
      "number:  9 , score:  0.749136\n",
      "number:  10 , score:  0.751312\n",
      "number:  11 , score:  0.747616\n",
      "number:  12 , score:  0.753264\n",
      "number:  13 , score:  0.747738666667\n",
      "number:  14 , score:  0.749949333333\n",
      "number:  15 , score:  0.750784\n",
      "number:  16 , score:  0.749781333333\n",
      "number:  17 , score:  0.750722666667\n",
      "number:  18 , score:  0.749850666667\n",
      "number:  19 , score:  0.750933333333\n",
      "number:  20 , score:  0.750466666667\n",
      "number:  21 , score:  0.751690666667\n",
      "number:  22 , score:  0.750077333333\n",
      "number:  23 , score:  0.749629333333\n",
      "number:  24 , score:  0.750434666667\n",
      "number:  25 , score:  0.751098666667\n",
      "number:  26 , score:  0.750213333333\n",
      "number:  27 , score:  0.750832\n",
      "number:  28 , score:  0.750141333333\n",
      "number:  29 , score:  0.750376\n",
      "remove feature 12\n",
      "number:  0 , score:  0.753133333333\n",
      "number:  1 , score:  0.752394666667\n",
      "number:  2 , score:  0.737821333333\n",
      "number:  3 , score:  0.745573333333\n",
      "number:  4 , score:  0.749434666667\n",
      "number:  5 , score:  0.754112\n",
      "number:  6 , score:  0.752301333333\n",
      "number:  7 , score:  0.753064\n",
      "number:  8 , score:  0.739117333333\n",
      "number:  9 , score:  0.752341333333\n",
      "number:  10 , score:  0.753464\n",
      "number:  11 , score:  0.749456\n",
      "number:  12 , score:  0.752568\n",
      "number:  13 , score:  0.753752\n",
      "number:  14 , score:  0.754317333333\n",
      "number:  15 , score:  0.752749333333\n",
      "number:  16 , score:  0.7534\n",
      "number:  17 , score:  0.753704\n",
      "number:  18 , score:  0.753469333333\n",
      "number:  19 , score:  0.753157333333\n",
      "number:  20 , score:  0.753450666667\n",
      "number:  21 , score:  0.752893333333\n",
      "number:  22 , score:  0.752536\n",
      "number:  23 , score:  0.7536\n",
      "number:  24 , score:  0.753741333333\n",
      "number:  25 , score:  0.753333333333\n",
      "number:  26 , score:  0.753618666667\n",
      "number:  27 , score:  0.753048\n",
      "number:  28 , score:  0.752834666667\n",
      "remove feature 14\n",
      "number:  0 , score:  0.753248\n",
      "number:  1 , score:  0.752845333333\n",
      "number:  2 , score:  0.738672\n",
      "number:  3 , score:  0.745568\n",
      "number:  4 , score:  0.749168\n",
      "number:  5 , score:  0.753786666667\n",
      "number:  6 , score:  0.753373333333\n",
      "number:  7 , score:  0.752392\n",
      "number:  8 , score:  0.738189333333\n",
      "number:  9 , score:  0.75252\n",
      "number:  10 , score:  0.753482666667\n",
      "number:  11 , score:  0.749888\n",
      "number:  12 , score:  0.751632\n",
      "number:  13 , score:  0.752981333333\n",
      "number:  14 , score:  0.752733333333\n",
      "number:  15 , score:  0.753282666667\n",
      "number:  16 , score:  0.753813333333\n",
      "number:  17 , score:  0.752936\n",
      "number:  18 , score:  0.753293333333\n",
      "number:  19 , score:  0.753685333333\n",
      "number:  20 , score:  0.753130666667\n",
      "number:  21 , score:  0.752968\n",
      "number:  22 , score:  0.75332\n",
      "number:  23 , score:  0.752746666667\n",
      "number:  24 , score:  0.754032\n",
      "number:  25 , score:  0.753970666667\n",
      "number:  26 , score:  0.753994666667\n",
      "number:  27 , score:  0.754090666667\n",
      "best score:  0.754317333333\n"
     ]
    }
   ],
   "source": [
    "# for i in range(10,15):\n",
    "#     x = getPCA(stand_x, i)\n",
    "#     score = logistic(x,y, 0.8)\n",
    "#     print('number: ', i, ', score: ', score)\n",
    "\n",
    "highest_acc = 0\n",
    "best_x = stand_x.copy()\n",
    "worst_feat = 0\n",
    "record =[]\n",
    "\n",
    "for i in range(30):\n",
    "    flag = 0\n",
    "    for j in range(30 - i):\n",
    "        x = best_x.copy()\n",
    "        x = np.delete(x, j, 1)\n",
    "        score = logistic(x,y, 0.7)\n",
    "        if score > highest_acc:\n",
    "            highest_acc = score\n",
    "            worst_feat = j\n",
    "            flag = 1\n",
    "        print('number: ', j, ', score: ', score)\n",
    "    if flag == 1:\n",
    "        best_x = np.delete(best_x, worst_feat, 1)\n",
    "        print('remove feature', worst_feat)\n",
    "        record.append(worst_feat)\n",
    "    else:\n",
    "        break\n",
    "\n",
    "print('best score: ', highest_acc)\n"
   ]
  },
  {
   "cell_type": "code",
   "execution_count": 11,
   "metadata": {
    "collapsed": true
   },
   "outputs": [],
   "source": [
    "best_x = stand_x.copy()\n",
    "record = [12, 14]\n",
    "for i in record:\n",
    "    best_x = np.delete(best_x, i, 1)\n",
    "\n",
    "# score = logistic(best_x,y,0.7)\n",
    "# score"
   ]
  },
  {
   "cell_type": "code",
   "execution_count": 12,
   "metadata": {},
   "outputs": [
    {
     "data": {
      "text/plain": [
       "(250000, 29)"
      ]
     },
     "execution_count": 12,
     "metadata": {},
     "output_type": "execute_result"
    }
   ],
   "source": [
    "best_x.shape"
   ]
  },
  {
   "cell_type": "code",
   "execution_count": 13,
   "metadata": {},
   "outputs": [
    {
     "name": "stdout",
     "output_type": "stream",
     "text": [
      "0.828\n",
      "0.828275\n",
      "0.828125\n",
      "0.8281\n",
      "0.828055\n"
     ]
    }
   ],
   "source": [
    "from sklearn.model_selection import train_test_split\n",
    "from sklearn import datasets\n",
    "from sklearn import svm\n",
    "\n",
    "x_tr, x_te, y_tr, y_te = train_test_split(best_x, y, test_size = 0.8, random_state = 0)\n",
    "\n",
    "# x_tr.shape\n",
    "# y_tr.shape\n",
    "\n",
    "clf = svm.SVC(kernel='rbf', C=1).fit(x_tr, y_tr)\n",
    "print(clf.score(x_te, y_te))\n",
    "\n",
    "for i in range(25,29):\n",
    "    x1 = best_x.copy()\n",
    "    x1 = getPCA(x1, i)\n",
    "    x_tr, x_te, y_tr, y_te = train_test_split(x1, y, test_size = 0.8, random_state = 0)\n",
    "\n",
    "    # x_tr.shape\n",
    "    # y_tr.shape\n",
    "\n",
    "    clf = svm.SVC(kernel='rbf', C=1).fit(x_tr, y_tr)\n",
    "    print(clf.score(x_te, y_te))\n"
   ]
  },
  {
   "cell_type": "code",
   "execution_count": 12,
   "metadata": {},
   "outputs": [
    {
     "data": {
      "text/plain": [
       "0.82918999999999998"
      ]
     },
     "execution_count": 12,
     "metadata": {},
     "output_type": "execute_result"
    }
   ],
   "source": [
    "clf.score(x_te, y_te)\n",
    "83296"
   ]
  }
 ],
 "metadata": {
  "kernelspec": {
   "display_name": "Python 3",
   "language": "python",
   "name": "python3"
  },
  "language_info": {
   "codemirror_mode": {
    "name": "ipython",
    "version": 3
   },
   "file_extension": ".py",
   "mimetype": "text/x-python",
   "name": "python",
   "nbconvert_exporter": "python",
   "pygments_lexer": "ipython3",
   "version": "3.6.1"
  }
 },
 "nbformat": 4,
 "nbformat_minor": 2
}
