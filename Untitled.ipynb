{
 "cells": [
  {
   "cell_type": "code",
   "execution_count": 3,
   "metadata": {},
   "outputs": [],
   "source": [
    "from scripts.proj1_helpers import *\n",
    "from scripts.stochastic_gradient_descent import *\n",
    "from scripts.split_data import *\n",
    "from scripts.least_squares import *\n",
    "from scripts.costs import *"
   ]
  },
  {
   "cell_type": "code",
   "execution_count": 4,
   "metadata": {
    "collapsed": true
   },
   "outputs": [],
   "source": [
    "y_tr, x_tr, _ = load_csv_data('higgs-data/train.csv')\n",
    "y_te, x_te, y_ids = load_csv_data('higgs-data/test.csv')"
   ]
  },
  {
   "cell_type": "code",
   "execution_count": 5,
   "metadata": {
    "collapsed": true
   },
   "outputs": [],
   "source": [
    "# \n",
    "mask = (x_tr != -999)\n",
    "\n",
    "# compute the mean and standard deviations\n",
    "mean = (x_tr * mask).sum(axis=0)/np.sum(mask, axis=0)\n",
    "std_dev = np.sqrt(np.sum(((x_tr - mean)*mask)**2, axis=0)/np.sum(mask, axis=0))\n",
    "\n",
    "# standardize\n",
    "x_tr_stand = (x_tr - mean) / std_dev * mask\n",
    "\n",
    "# set -999 to zero\n",
    "x_tr_stand = x_tr * mask\n"
   ]
  },
  {
   "cell_type": "code",
   "execution_count": 9,
   "metadata": {},
   "outputs": [
    {
     "name": "stdout",
     "output_type": "stream",
     "text": [
      "(250000, 30)\n"
     ]
    }
   ],
   "source": [
    "print(np.shape(x_tr_stand))\n",
    "print(np.shape())"
   ]
  },
  {
   "cell_type": "markdown",
   "metadata": {},
   "source": [
    "# Epic ML code here"
   ]
  },
  {
   "cell_type": "code",
   "execution_count": 6,
   "metadata": {
    "collapsed": true
   },
   "outputs": [],
   "source": [
    "# split data\n",
    "# x_tr, x_te, y_tr, y_te = split_data(x, y, 0.8, 6)\n",
    "\n",
    "#\n",
    "weight = least_squares(y_tr, x_tr_stand)"
   ]
  },
  {
   "cell_type": "markdown",
   "metadata": {},
   "source": [
    "# Classify"
   ]
  },
  {
   "cell_type": "code",
   "execution_count": 7,
   "metadata": {
    "collapsed": true
   },
   "outputs": [],
   "source": [
    "# predict labels\n",
    "y_pred = predict_labels(weight, x_te)"
   ]
  },
  {
   "cell_type": "code",
   "execution_count": 8,
   "metadata": {
    "collapsed": true
   },
   "outputs": [],
   "source": [
    "create_csv_submission(y_ids, y_pred, 'try.csv')"
   ]
  },
  {
   "cell_type": "code",
   "execution_count": null,
   "metadata": {
    "collapsed": true
   },
   "outputs": [],
   "source": []
  }
 ],
 "metadata": {
  "kernelspec": {
   "display_name": "Python 3",
   "language": "python",
   "name": "python3"
  }
 },
 "nbformat": 4,
 "nbformat_minor": 2
}
